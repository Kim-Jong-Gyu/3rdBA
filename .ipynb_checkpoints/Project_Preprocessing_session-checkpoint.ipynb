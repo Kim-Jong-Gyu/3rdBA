{
 "cells": [
  {
   "cell_type": "code",
   "execution_count": 1,
   "metadata": {},
   "outputs": [],
   "source": [
    "import pandas as pd\n",
    "import numpy as np\n",
    "\n",
    "df_session=pd.read_csv(\"/Users/kimjong-gyu/Desktop/airbnb-recruiting-new-user-bookings/sessions.csv\")\n",
    "\n"
   ]
  },
  {
   "cell_type": "code",
   "execution_count": 2,
   "metadata": {},
   "outputs": [
    {
     "data": {
      "text/plain": [
       "user_id            34496\n",
       "action             79626\n",
       "action_type      1126204\n",
       "action_detail    1126204\n",
       "device_type            0\n",
       "secs_elapsed      136031\n",
       "dtype: int64"
      ]
     },
     "execution_count": 2,
     "metadata": {},
     "output_type": "execute_result"
    }
   ],
   "source": [
    "#First we deal with the Session dataset\n",
    "df_session.isnull().sum()"
   ]
  },
  {
   "cell_type": "code",
   "execution_count": 3,
   "metadata": {},
   "outputs": [],
   "source": [
    "#we drop about Missing value about User_id\n",
    "df_session=df_session[df_session.user_id.notnull()]"
   ]
  },
  {
   "cell_type": "code",
   "execution_count": 4,
   "metadata": {},
   "outputs": [
    {
     "data": {
      "text/plain": [
       "user_id                0\n",
       "action             79480\n",
       "action_type      1122957\n",
       "action_detail    1122957\n",
       "device_type            0\n",
       "secs_elapsed      135483\n",
       "dtype: int64"
      ]
     },
     "execution_count": 4,
     "metadata": {},
     "output_type": "execute_result"
    }
   ],
   "source": [
    "df_session.isnull().sum()"
   ]
  },
  {
   "cell_type": "code",
   "execution_count": 5,
   "metadata": {},
   "outputs": [
    {
     "data": {
      "text/html": [
       "<div>\n",
       "<style scoped>\n",
       "    .dataframe tbody tr th:only-of-type {\n",
       "        vertical-align: middle;\n",
       "    }\n",
       "\n",
       "    .dataframe tbody tr th {\n",
       "        vertical-align: top;\n",
       "    }\n",
       "\n",
       "    .dataframe thead th {\n",
       "        text-align: right;\n",
       "    }\n",
       "</style>\n",
       "<table border=\"1\" class=\"dataframe\">\n",
       "  <thead>\n",
       "    <tr style=\"text-align: right;\">\n",
       "      <th></th>\n",
       "      <th>user_id</th>\n",
       "      <th>action</th>\n",
       "      <th>action_type</th>\n",
       "      <th>action_detail</th>\n",
       "      <th>device_type</th>\n",
       "      <th>secs_elapsed</th>\n",
       "    </tr>\n",
       "  </thead>\n",
       "  <tbody>\n",
       "    <tr>\n",
       "      <th>45</th>\n",
       "      <td>d1mm9tcy42</td>\n",
       "      <td>NaN</td>\n",
       "      <td>message_post</td>\n",
       "      <td>message_post</td>\n",
       "      <td>Windows Desktop</td>\n",
       "      <td>NaN</td>\n",
       "    </tr>\n",
       "    <tr>\n",
       "      <th>138</th>\n",
       "      <td>4grx6yxeby</td>\n",
       "      <td>NaN</td>\n",
       "      <td>message_post</td>\n",
       "      <td>message_post</td>\n",
       "      <td>Windows Desktop</td>\n",
       "      <td>59801.0</td>\n",
       "    </tr>\n",
       "    <tr>\n",
       "      <th>317</th>\n",
       "      <td>xwxei6hdk4</td>\n",
       "      <td>NaN</td>\n",
       "      <td>message_post</td>\n",
       "      <td>message_post</td>\n",
       "      <td>iPad Tablet</td>\n",
       "      <td>NaN</td>\n",
       "    </tr>\n",
       "    <tr>\n",
       "      <th>320</th>\n",
       "      <td>xwxei6hdk4</td>\n",
       "      <td>NaN</td>\n",
       "      <td>message_post</td>\n",
       "      <td>message_post</td>\n",
       "      <td>iPad Tablet</td>\n",
       "      <td>0.0</td>\n",
       "    </tr>\n",
       "    <tr>\n",
       "      <th>382</th>\n",
       "      <td>ro2stddszp</td>\n",
       "      <td>NaN</td>\n",
       "      <td>message_post</td>\n",
       "      <td>message_post</td>\n",
       "      <td>Mac Desktop</td>\n",
       "      <td>7192.0</td>\n",
       "    </tr>\n",
       "    <tr>\n",
       "      <th>...</th>\n",
       "      <td>...</td>\n",
       "      <td>...</td>\n",
       "      <td>...</td>\n",
       "      <td>...</td>\n",
       "      <td>...</td>\n",
       "      <td>...</td>\n",
       "    </tr>\n",
       "    <tr>\n",
       "      <th>8092</th>\n",
       "      <td>hjepuvkxlj</td>\n",
       "      <td>NaN</td>\n",
       "      <td>message_post</td>\n",
       "      <td>message_post</td>\n",
       "      <td>Mac Desktop</td>\n",
       "      <td>3013.0</td>\n",
       "    </tr>\n",
       "    <tr>\n",
       "      <th>8121</th>\n",
       "      <td>hjepuvkxlj</td>\n",
       "      <td>NaN</td>\n",
       "      <td>message_post</td>\n",
       "      <td>message_post</td>\n",
       "      <td>Mac Desktop</td>\n",
       "      <td>6846.0</td>\n",
       "    </tr>\n",
       "    <tr>\n",
       "      <th>8151</th>\n",
       "      <td>hjepuvkxlj</td>\n",
       "      <td>NaN</td>\n",
       "      <td>message_post</td>\n",
       "      <td>message_post</td>\n",
       "      <td>Mac Desktop</td>\n",
       "      <td>978.0</td>\n",
       "    </tr>\n",
       "    <tr>\n",
       "      <th>8302</th>\n",
       "      <td>kpnmjq1ppj</td>\n",
       "      <td>NaN</td>\n",
       "      <td>message_post</td>\n",
       "      <td>message_post</td>\n",
       "      <td>Mac Desktop</td>\n",
       "      <td>50640.0</td>\n",
       "    </tr>\n",
       "    <tr>\n",
       "      <th>8330</th>\n",
       "      <td>guj7f7sjve</td>\n",
       "      <td>NaN</td>\n",
       "      <td>message_post</td>\n",
       "      <td>message_post</td>\n",
       "      <td>Windows Desktop</td>\n",
       "      <td>NaN</td>\n",
       "    </tr>\n",
       "  </tbody>\n",
       "</table>\n",
       "<p>100 rows × 6 columns</p>\n",
       "</div>"
      ],
      "text/plain": [
       "         user_id action   action_type action_detail      device_type  \\\n",
       "45    d1mm9tcy42    NaN  message_post  message_post  Windows Desktop   \n",
       "138   4grx6yxeby    NaN  message_post  message_post  Windows Desktop   \n",
       "317   xwxei6hdk4    NaN  message_post  message_post      iPad Tablet   \n",
       "320   xwxei6hdk4    NaN  message_post  message_post      iPad Tablet   \n",
       "382   ro2stddszp    NaN  message_post  message_post      Mac Desktop   \n",
       "...          ...    ...           ...           ...              ...   \n",
       "8092  hjepuvkxlj    NaN  message_post  message_post      Mac Desktop   \n",
       "8121  hjepuvkxlj    NaN  message_post  message_post      Mac Desktop   \n",
       "8151  hjepuvkxlj    NaN  message_post  message_post      Mac Desktop   \n",
       "8302  kpnmjq1ppj    NaN  message_post  message_post      Mac Desktop   \n",
       "8330  guj7f7sjve    NaN  message_post  message_post  Windows Desktop   \n",
       "\n",
       "      secs_elapsed  \n",
       "45             NaN  \n",
       "138        59801.0  \n",
       "317            NaN  \n",
       "320            0.0  \n",
       "382         7192.0  \n",
       "...            ...  \n",
       "8092        3013.0  \n",
       "8121        6846.0  \n",
       "8151         978.0  \n",
       "8302       50640.0  \n",
       "8330           NaN  \n",
       "\n",
       "[100 rows x 6 columns]"
      ]
     },
     "execution_count": 5,
     "metadata": {},
     "output_type": "execute_result"
    }
   ],
   "source": [
    "#Missing values about action colums\n",
    "df_session[df_session.action.isnull()].head(100)"
   ]
  },
  {
   "cell_type": "code",
   "execution_count": 6,
   "metadata": {},
   "outputs": [
    {
     "data": {
      "text/plain": [
       "message_post    79480\n",
       "Name: action_type, dtype: int64"
      ]
     },
     "execution_count": 6,
     "metadata": {},
     "output_type": "execute_result"
    }
   ],
   "source": [
    "#we can count message_post \n",
    "#this is same between the number of null value of the df_session action type message_post about \n",
    "#action_type \n",
    "df_session[df_session.action.isnull()].action_type.value_counts()"
   ]
  },
  {
   "cell_type": "code",
   "execution_count": 7,
   "metadata": {},
   "outputs": [],
   "source": [
    "# we set up the action to \"message\" about message_post of action_type \n",
    "df_session.loc[df_session.action.isnull(), 'action']='message'"
   ]
  },
  {
   "cell_type": "code",
   "execution_count": 8,
   "metadata": {},
   "outputs": [
    {
     "data": {
      "text/plain": [
       "user_id                0\n",
       "action                 0\n",
       "action_type      1122957\n",
       "action_detail    1122957\n",
       "device_type            0\n",
       "secs_elapsed      135483\n",
       "dtype: int64"
      ]
     },
     "execution_count": 8,
     "metadata": {},
     "output_type": "execute_result"
    }
   ],
   "source": [
    "df_session.isnull().sum()"
   ]
  },
  {
   "cell_type": "code",
   "execution_count": 9,
   "metadata": {},
   "outputs": [
    {
     "name": "stdout",
     "output_type": "stream",
     "text": [
      "show                      580485\n",
      "similar_listings_v2       168457\n",
      "lookup                    161422\n",
      "campaigns                 104331\n",
      "track_page_view            80949\n",
      "index                      16682\n",
      "localization_settings       5380\n",
      "uptodate                    3329\n",
      "signed_out_modal            1054\n",
      "currencies                   292\n",
      "update                       225\n",
      "braintree_client_token       120\n",
      "check                        119\n",
      "widget                        75\n",
      "phone_verification            16\n",
      "satisfy                        9\n",
      "disaster_action                6\n",
      "track_activity                 6\n",
      "Name: action, dtype: int64\n",
      "     \n",
      "show                      580485\n",
      "similar_listings_v2       168457\n",
      "lookup                    161422\n",
      "campaigns                 104331\n",
      "track_page_view            80949\n",
      "index                      16682\n",
      "localization_settings       5380\n",
      "uptodate                    3329\n",
      "signed_out_modal            1054\n",
      "currencies                   292\n",
      "update                       225\n",
      "braintree_client_token       120\n",
      "check                        119\n",
      "widget                        75\n",
      "phone_verification            16\n",
      "satisfy                        9\n",
      "disaster_action                6\n",
      "track_activity                 6\n",
      "Name: action, dtype: int64\n"
     ]
    }
   ],
   "source": [
    "# We see the missing value about action type and action_detail\n",
    "\n",
    "print(df_session[df_session.action_type.isnull()].action.value_counts())\n",
    "print(\"     \")\n",
    "print(df_session[df_session.action_detail.isnull()].action.value_counts())\n",
    "\n",
    "\n"
   ]
  },
  {
   "cell_type": "code",
   "execution_count": 10,
   "metadata": {
    "scrolled": true
   },
   "outputs": [
    {
     "data": {
      "text/plain": [
       "array([nan, 'view_search_results', 'wishlist_content_update',\n",
       "       'similar_listings', 'change_trip_characteristics', 'p3',\n",
       "       'header_userpic', 'contact_host', 'message_post', '-unknown-',\n",
       "       'dashboard', 'create_user', 'confirm_email_link',\n",
       "       'user_profile_content_update', 'user_profile', 'pending', 'p5',\n",
       "       'create_phone_numbers', 'cancellation_policies', 'user_wishlists',\n",
       "       'change_contact_host_dates', 'wishlist', 'message_thread',\n",
       "       'request_new_confirm_email', 'send_message', 'your_trips',\n",
       "       'login_page', 'login', 'login_modal', 'toggle_archived_thread',\n",
       "       'p1', 'profile_verifications', 'edit_profile', 'oauth_login',\n",
       "       'post_checkout_action', 'account_notification_settings',\n",
       "       'update_user_profile', 'oauth_response', 'signup_modal',\n",
       "       'signup_login_page', 'at_checkpoint', 'manage_listing',\n",
       "       'create_listing', 'your_listings', 'profile_references',\n",
       "       'list_your_space', 'popular_wishlists', 'listing_reviews_page',\n",
       "       'apply_coupon', 'user_tax_forms', 'account_payout_preferences',\n",
       "       'guest_itinerary', 'guest_receipt', 'account_privacy_settings',\n",
       "       'lookup_message_thread', 'friends_wishlists', 'host_guarantee',\n",
       "       'delete_phone_numbers', 'account_transaction_history',\n",
       "       'set_password', 'guest_cancellation', 'change_or_alter',\n",
       "       'your_reservations', 'terms_and_privacy', 'airbnb_picks_wishlists',\n",
       "       'toggle_starred_thread', 'email_wishlist', 'email_wishlist_button',\n",
       "       'wishlist_note', 'calculate_worth', 'place_worth',\n",
       "       'change_password', 'alteration_field', 'previous_trips',\n",
       "       'update_listing', 'update_listing_description', 'user_reviews',\n",
       "       'update_user', 'notifications', 'user_social_connections',\n",
       "       'unavailable_dates', 'reservations', 'listing_reviews',\n",
       "       'user_listings', 'signup', 'message_inbox', 'trip_availability',\n",
       "       'payment_instruments', 'admin_templates', 'host_home',\n",
       "       'translations', 'forgot_password', 'remove_dashboard_alert',\n",
       "       'user_friend_recommendations', 'confirm_email', 'host_respond',\n",
       "       'booking', 'respond_to_alteration_request', 'alteration_request',\n",
       "       'create_alteration_request', 'delete_listing', 'set_password_page',\n",
       "       'homepage', 'delete_listing_description',\n",
       "       'translate_listing_reviews', 'book_it', 'instant_book',\n",
       "       'request_to_book', 'complete_booking', 'change_availability',\n",
       "       'special_offer_field', 'listing_recommendations', 'view_listing',\n",
       "       'listing_descriptions', 'user_languages', 'p4',\n",
       "       'message_to_host_focus', 'cancellation_policy_click',\n",
       "       'message_to_host_change', 'read_policy_click',\n",
       "       'phone_verification_success', 'p4_refund_policy_terms',\n",
       "       'apply_coupon_error', 'apply_coupon_click', 'coupon_field_focus',\n",
       "       'coupon_code_click', 'p4_terms', 'apply_coupon_click_success',\n",
       "       'tos_2014', 'view_reservations', 'view_locations', 'modify_users',\n",
       "       'view_security_checks', 'phone_numbers', 'profile_reviews',\n",
       "       'modify_reservations', 'view_resolutions',\n",
       "       'account_payment_methods', 'create_payment_instrument',\n",
       "       'set_default_payment_instrument', 'delete_payment_instrument',\n",
       "       'photos', 'click_reviews', 'move_map', 'share',\n",
       "       'cancellation_policy', 'click_about_host', 'click_amenities',\n",
       "       'host_refund_guest', 'host_respond_page', 'view_user_real_names',\n",
       "       'view_identity_verifications', 'view_ghosting_reasons',\n",
       "       'view_ghostings', 'host_standard_suspension',\n",
       "       'deactivate_user_account'], dtype=object)"
      ]
     },
     "execution_count": 10,
     "metadata": {},
     "output_type": "execute_result"
    }
   ],
   "source": [
    "df_session['action_detail'].unique()"
   ]
  },
  {
   "cell_type": "code",
   "execution_count": 11,
   "metadata": {},
   "outputs": [
    {
     "data": {
      "text/plain": [
       "array([nan, 'click', 'data', 'view', 'submit', 'message_post',\n",
       "       '-unknown-', 'booking_request', 'partner_callback',\n",
       "       'booking_response', 'modify'], dtype=object)"
      ]
     },
     "execution_count": 11,
     "metadata": {},
     "output_type": "execute_result"
    }
   ],
   "source": [
    "df_session['action_type'].unique()"
   ]
  },
  {
   "cell_type": "code",
   "execution_count": 12,
   "metadata": {},
   "outputs": [],
   "source": [
    "def most_common_value_by_all_users(merge_df, feature):\n",
    "    new_df = pd.DataFrame(merge_df.groupby('action')[feature].value_counts())\n",
    "    new_df['index_tuple'] = new_df.index\n",
    "    new_df['count'] = new_df[feature]\n",
    "    new_columns = ['action', feature]\n",
    "    for n, col in enumerate(new_columns):\n",
    "        new_df[col] = new_df.index_tuple.apply(lambda index_tuple: index_tuple[n])\n",
    "        \n",
    "    new_df = new_df.reset_index(drop=True)\n",
    "    new_df = new_df.drop(['index_tuple'], axis=1)\n",
    "    \n",
    "    new_df_max = pd.DataFrame(new_df.groupby('action', as_index=False)['count'].max())\n",
    "    new_df_max = new_df_max.merge(new_df, on = ['action', 'count'])\n",
    "    new_df_max = new_df_max.drop('count', axis=1)\n",
    "    merge_df = merge_df.merge(new_df_max, left_on = 'action', right_on = 'action', how='left')\n",
    "    \n",
    "    return merge_df\n",
    "df_session = most_common_value_by_all_users(df_session, 'action_type')\n",
    "df_session = most_common_value_by_all_users(df_session, 'action_detail')\n",
    "df_session.loc[df_session.action_type_x.isnull(), 'action_type_x'] = df_session.action_type_y\n",
    "df_session.loc[df_session.action_detail_x.isnull(), 'action_detail_x'] = df_session.action_detail_y\n",
    "df_session['action_type'] = df_session.action_type_x\n",
    "df_session['action_detail'] = df_session.action_detail_x\n",
    "df_session.drop(['action_type_x', 'action_detail_x', 'action_type_y', 'action_detail_y'], axis=1, inplace=True)\n",
    "\n",
    "\n",
    "\n",
    "\n",
    "\n",
    "\n"
   ]
  },
  {
   "cell_type": "code",
   "execution_count": 13,
   "metadata": {},
   "outputs": [
    {
     "data": {
      "text/plain": [
       "user_id               0\n",
       "action                0\n",
       "device_type           0\n",
       "secs_elapsed     135483\n",
       "action_type      415562\n",
       "action_detail    415562\n",
       "dtype: int64"
      ]
     },
     "execution_count": 13,
     "metadata": {},
     "output_type": "execute_result"
    }
   ],
   "source": [
    "df_session.isnull().sum()"
   ]
  },
  {
   "cell_type": "code",
   "execution_count": 14,
   "metadata": {},
   "outputs": [
    {
     "data": {
      "text/plain": [
       "similar_listings_v2       168457\n",
       "lookup                    161422\n",
       "track_page_view            80949\n",
       "uptodate                    3329\n",
       "signed_out_modal            1054\n",
       "braintree_client_token       120\n",
       "check                        119\n",
       "widget                        75\n",
       "phone_verification            16\n",
       "satisfy                        9\n",
       "disaster_action                6\n",
       "track_activity                 6\n",
       "Name: action, dtype: int64"
      ]
     },
     "execution_count": 14,
     "metadata": {},
     "output_type": "execute_result"
    }
   ],
   "source": [
    "# After that, we still have a lot of many missing values,\n",
    "# such as missing values in action_type and action_detail \n",
    "# where action as \"similar_listings_v2\", \"lookup\" and \"track_page_view\" and so on.\n",
    "df_session[df_session.action_type.isnull()].action.value_counts()\n",
    "\n"
   ]
  },
  {
   "cell_type": "code",
   "execution_count": 15,
   "metadata": {},
   "outputs": [
    {
     "name": "stdout",
     "output_type": "stream",
     "text": [
      "data    363423\n",
      "Name: action_type, dtype: int64\n",
      "---\n",
      "similar_listings    363423\n",
      "Name: action_detail, dtype: int64\n"
     ]
    }
   ],
   "source": [
    "# action: similiar_listing 의 action_type 은 data 고, action_detail도 similar_listings이니\n",
    "# action : similar_listings_v2 도 같은 타입이고 같은 디테일이라고 생각했다.\n",
    "\n",
    "print(df_session[df_session.action == 'similar_listings'].action_type.value_counts())\n",
    "print('---')\n",
    "print(df_session[df_session.action == 'similar_listings'].action_detail.value_counts())\n",
    "\n"
   ]
  },
  {
   "cell_type": "code",
   "execution_count": 16,
   "metadata": {},
   "outputs": [],
   "source": [
    "#그래서 같은걸로 채워준다\n",
    "df_session.loc[df_session.action == 'similar_listings_v2', 'action_type'] = 'data'\n",
    "df_session.loc[df_session.action == 'similar_listings_v2', 'action_detail'] = 'similar_listings'\n",
    "\n"
   ]
  },
  {
   "cell_type": "code",
   "execution_count": 17,
   "metadata": {},
   "outputs": [],
   "source": [
    "#나머지는 다른거와 연관이 없고 유의미한 자료를 찾을수 없으므로 drop 한다.\n",
    "df_session.dropna(subset=['action_type'],inplace=True)\n"
   ]
  },
  {
   "cell_type": "code",
   "execution_count": 18,
   "metadata": {},
   "outputs": [
    {
     "data": {
      "text/plain": [
       "user_id               0\n",
       "action                0\n",
       "device_type           0\n",
       "secs_elapsed     135480\n",
       "action_type           0\n",
       "action_detail         0\n",
       "dtype: int64"
      ]
     },
     "execution_count": 18,
     "metadata": {},
     "output_type": "execute_result"
    }
   ],
   "source": [
    "df_session.isnull().sum()"
   ]
  },
  {
   "cell_type": "code",
   "execution_count": 19,
   "metadata": {},
   "outputs": [],
   "source": [
    "# secs_elapsed 의 null 값들은 평균값으로 채워준다. \n",
    "df_session[\"secs_elapsed\"].describe\n",
    "df_session[\"secs_elapsed\"] = df_session.groupby(\"action\").transform(lambda x: x.fillna(x.median()))"
   ]
  },
  {
   "cell_type": "code",
   "execution_count": 20,
   "metadata": {},
   "outputs": [
    {
     "data": {
      "text/plain": [
       "user_id          0\n",
       "action           0\n",
       "device_type      0\n",
       "secs_elapsed     0\n",
       "action_type      0\n",
       "action_detail    0\n",
       "dtype: int64"
      ]
     },
     "execution_count": 20,
     "metadata": {},
     "output_type": "execute_result"
    }
   ],
   "source": [
    "df_session.isnull().sum()"
   ]
  },
  {
   "cell_type": "code",
   "execution_count": 21,
   "metadata": {
    "scrolled": false
   },
   "outputs": [
    {
     "data": {
      "text/plain": [
       "count    1.028614e+07\n",
       "mean     1.972972e+04\n",
       "std      8.921948e+04\n",
       "min      0.000000e+00\n",
       "25%      2.380000e+02\n",
       "50%      1.217000e+03\n",
       "75%      9.491000e+03\n",
       "max      1.799977e+06\n",
       "Name: secs_elapsed, dtype: float64"
      ]
     },
     "execution_count": 21,
     "metadata": {},
     "output_type": "execute_result"
    }
   ],
   "source": [
    "df_session.secs_elapsed.describe()"
   ]
  },
  {
   "cell_type": "code",
   "execution_count": 22,
   "metadata": {},
   "outputs": [],
   "source": [
    "df_session = df_session.astype({'secs_elapsed': 'int'})"
   ]
  },
  {
   "cell_type": "code",
   "execution_count": 24,
   "metadata": {},
   "outputs": [
    {
     "name": "stdout",
     "output_type": "stream",
     "text": [
      "user_id          object\n",
      "action           object\n",
      "device_type      object\n",
      "secs_elapsed      int64\n",
      "action_type      object\n",
      "action_detail    object\n",
      "dtype: object\n"
     ]
    }
   ],
   "source": [
    "print(df_session.dtypes)"
   ]
  },
  {
   "cell_type": "code",
   "execution_count": 27,
   "metadata": {},
   "outputs": [
    {
     "data": {
      "text/html": [
       "<div>\n",
       "<style scoped>\n",
       "    .dataframe tbody tr th:only-of-type {\n",
       "        vertical-align: middle;\n",
       "    }\n",
       "\n",
       "    .dataframe tbody tr th {\n",
       "        vertical-align: top;\n",
       "    }\n",
       "\n",
       "    .dataframe thead th {\n",
       "        text-align: right;\n",
       "    }\n",
       "</style>\n",
       "<table border=\"1\" class=\"dataframe\">\n",
       "  <thead>\n",
       "    <tr style=\"text-align: right;\">\n",
       "      <th></th>\n",
       "      <th>user_id</th>\n",
       "      <th>action</th>\n",
       "      <th>device_type</th>\n",
       "      <th>secs_elapsed</th>\n",
       "      <th>action_type</th>\n",
       "      <th>action_detail</th>\n",
       "    </tr>\n",
       "  </thead>\n",
       "  <tbody>\n",
       "    <tr>\n",
       "      <th>1</th>\n",
       "      <td>d1mm9tcy42</td>\n",
       "      <td>search_results</td>\n",
       "      <td>Windows Desktop</td>\n",
       "      <td>67753</td>\n",
       "      <td>click</td>\n",
       "      <td>view_search_results</td>\n",
       "    </tr>\n",
       "    <tr>\n",
       "      <th>3</th>\n",
       "      <td>d1mm9tcy42</td>\n",
       "      <td>search_results</td>\n",
       "      <td>Windows Desktop</td>\n",
       "      <td>22141</td>\n",
       "      <td>click</td>\n",
       "      <td>view_search_results</td>\n",
       "    </tr>\n",
       "    <tr>\n",
       "      <th>5</th>\n",
       "      <td>d1mm9tcy42</td>\n",
       "      <td>search_results</td>\n",
       "      <td>Windows Desktop</td>\n",
       "      <td>7703</td>\n",
       "      <td>click</td>\n",
       "      <td>view_search_results</td>\n",
       "    </tr>\n",
       "    <tr>\n",
       "      <th>7</th>\n",
       "      <td>d1mm9tcy42</td>\n",
       "      <td>personalize</td>\n",
       "      <td>Windows Desktop</td>\n",
       "      <td>831</td>\n",
       "      <td>data</td>\n",
       "      <td>wishlist_content_update</td>\n",
       "    </tr>\n",
       "    <tr>\n",
       "      <th>8</th>\n",
       "      <td>d1mm9tcy42</td>\n",
       "      <td>index</td>\n",
       "      <td>Windows Desktop</td>\n",
       "      <td>20842</td>\n",
       "      <td>view</td>\n",
       "      <td>view_search_results</td>\n",
       "    </tr>\n",
       "  </tbody>\n",
       "</table>\n",
       "</div>"
      ],
      "text/plain": [
       "      user_id          action      device_type  secs_elapsed action_type  \\\n",
       "1  d1mm9tcy42  search_results  Windows Desktop         67753       click   \n",
       "3  d1mm9tcy42  search_results  Windows Desktop         22141       click   \n",
       "5  d1mm9tcy42  search_results  Windows Desktop          7703       click   \n",
       "7  d1mm9tcy42     personalize  Windows Desktop           831        data   \n",
       "8  d1mm9tcy42           index  Windows Desktop         20842        view   \n",
       "\n",
       "             action_detail  \n",
       "1      view_search_results  \n",
       "3      view_search_results  \n",
       "5      view_search_results  \n",
       "7  wishlist_content_update  \n",
       "8      view_search_results  "
      ]
     },
     "execution_count": 27,
     "metadata": {},
     "output_type": "execute_result"
    }
   ],
   "source": [
    "#각 웹 로그 시간\n",
    "df_session.head()"
   ]
  },
  {
   "cell_type": "code",
   "execution_count": 29,
   "metadata": {},
   "outputs": [
    {
     "data": {
      "text/plain": [
       "count    9.754658e+06\n",
       "mean     2.080415e+04\n",
       "std      9.149577e+04\n",
       "min      2.500000e+01\n",
       "25%      3.500000e+02\n",
       "50%      1.422000e+03\n",
       "75%      1.043600e+04\n",
       "max      1.799977e+06\n",
       "Name: secs_elapsed, dtype: float64"
      ]
     },
     "execution_count": 29,
     "metadata": {},
     "output_type": "execute_result"
    }
   ],
   "source": [
    "# 각 웹 로그 시간이 하루가 넘어가는건 이상하다고 판단 \n",
    "# 24 시간 이상인 데이터 제거 \n",
    "df_session.loc[df_session['secs_elapsed'] >24]['secs_elapsed'].describe()"
   ]
  },
  {
   "cell_type": "code",
   "execution_count": 30,
   "metadata": {},
   "outputs": [],
   "source": [
    "df_session.loc[df_session.secs_elapsed > 24, 'secs_elapsed'] = 24"
   ]
  },
  {
   "cell_type": "code",
   "execution_count": 31,
   "metadata": {},
   "outputs": [
    {
     "data": {
      "text/plain": [
       "array([24, 12, 15,  2,  0, 22, 13, 21, 23, 18,  9,  8, 10,  4, 17,  5,  6,\n",
       "       20, 19,  3,  1, 11, 16,  7, 14])"
      ]
     },
     "execution_count": 31,
     "metadata": {},
     "output_type": "execute_result"
    }
   ],
   "source": [
    "df_session['secs_elapsed'].unique()"
   ]
  },
  {
   "cell_type": "code",
   "execution_count": 58,
   "metadata": {},
   "outputs": [],
   "source": [
    "df_session.to_csv(\"/Users/kimjong-gyu/Desktop/airbnb-recruiting-new-user-bookings/session_pre.csv\")"
   ]
  },
  {
   "cell_type": "code",
   "execution_count": 51,
   "metadata": {
    "scrolled": true
   },
   "outputs": [],
   "source": []
  },
  {
   "cell_type": "code",
   "execution_count": 52,
   "metadata": {},
   "outputs": [
    {
     "data": {
      "text/html": [
       "<div>\n",
       "<style scoped>\n",
       "    .dataframe tbody tr th:only-of-type {\n",
       "        vertical-align: middle;\n",
       "    }\n",
       "\n",
       "    .dataframe tbody tr th {\n",
       "        vertical-align: top;\n",
       "    }\n",
       "\n",
       "    .dataframe thead th {\n",
       "        text-align: right;\n",
       "    }\n",
       "</style>\n",
       "<table border=\"1\" class=\"dataframe\">\n",
       "  <thead>\n",
       "    <tr style=\"text-align: right;\">\n",
       "      <th></th>\n",
       "      <th>user_id</th>\n",
       "      <th>action</th>\n",
       "      <th>device_type</th>\n",
       "      <th>secs_elapsed</th>\n",
       "      <th>action_type</th>\n",
       "      <th>action_detail_account_notification_settings</th>\n",
       "      <th>action_detail_account_payment_methods</th>\n",
       "      <th>action_detail_account_payout_preferences</th>\n",
       "      <th>action_detail_account_privacy_settings</th>\n",
       "      <th>action_detail_account_transaction_history</th>\n",
       "      <th>...</th>\n",
       "      <th>action_detail_view_resolutions</th>\n",
       "      <th>action_detail_view_search_results</th>\n",
       "      <th>action_detail_view_security_checks</th>\n",
       "      <th>action_detail_view_user_real_names</th>\n",
       "      <th>action_detail_wishlist</th>\n",
       "      <th>action_detail_wishlist_content_update</th>\n",
       "      <th>action_detail_wishlist_note</th>\n",
       "      <th>action_detail_your_listings</th>\n",
       "      <th>action_detail_your_reservations</th>\n",
       "      <th>action_detail_your_trips</th>\n",
       "    </tr>\n",
       "  </thead>\n",
       "  <tbody>\n",
       "    <tr>\n",
       "      <th>1</th>\n",
       "      <td>d1mm9tcy42</td>\n",
       "      <td>search_results</td>\n",
       "      <td>Windows Desktop</td>\n",
       "      <td>24</td>\n",
       "      <td>click</td>\n",
       "      <td>0</td>\n",
       "      <td>0</td>\n",
       "      <td>0</td>\n",
       "      <td>0</td>\n",
       "      <td>0</td>\n",
       "      <td>...</td>\n",
       "      <td>0</td>\n",
       "      <td>1</td>\n",
       "      <td>0</td>\n",
       "      <td>0</td>\n",
       "      <td>0</td>\n",
       "      <td>0</td>\n",
       "      <td>0</td>\n",
       "      <td>0</td>\n",
       "      <td>0</td>\n",
       "      <td>0</td>\n",
       "    </tr>\n",
       "    <tr>\n",
       "      <th>3</th>\n",
       "      <td>d1mm9tcy42</td>\n",
       "      <td>search_results</td>\n",
       "      <td>Windows Desktop</td>\n",
       "      <td>24</td>\n",
       "      <td>click</td>\n",
       "      <td>0</td>\n",
       "      <td>0</td>\n",
       "      <td>0</td>\n",
       "      <td>0</td>\n",
       "      <td>0</td>\n",
       "      <td>...</td>\n",
       "      <td>0</td>\n",
       "      <td>1</td>\n",
       "      <td>0</td>\n",
       "      <td>0</td>\n",
       "      <td>0</td>\n",
       "      <td>0</td>\n",
       "      <td>0</td>\n",
       "      <td>0</td>\n",
       "      <td>0</td>\n",
       "      <td>0</td>\n",
       "    </tr>\n",
       "    <tr>\n",
       "      <th>5</th>\n",
       "      <td>d1mm9tcy42</td>\n",
       "      <td>search_results</td>\n",
       "      <td>Windows Desktop</td>\n",
       "      <td>24</td>\n",
       "      <td>click</td>\n",
       "      <td>0</td>\n",
       "      <td>0</td>\n",
       "      <td>0</td>\n",
       "      <td>0</td>\n",
       "      <td>0</td>\n",
       "      <td>...</td>\n",
       "      <td>0</td>\n",
       "      <td>1</td>\n",
       "      <td>0</td>\n",
       "      <td>0</td>\n",
       "      <td>0</td>\n",
       "      <td>0</td>\n",
       "      <td>0</td>\n",
       "      <td>0</td>\n",
       "      <td>0</td>\n",
       "      <td>0</td>\n",
       "    </tr>\n",
       "    <tr>\n",
       "      <th>7</th>\n",
       "      <td>d1mm9tcy42</td>\n",
       "      <td>personalize</td>\n",
       "      <td>Windows Desktop</td>\n",
       "      <td>24</td>\n",
       "      <td>data</td>\n",
       "      <td>0</td>\n",
       "      <td>0</td>\n",
       "      <td>0</td>\n",
       "      <td>0</td>\n",
       "      <td>0</td>\n",
       "      <td>...</td>\n",
       "      <td>0</td>\n",
       "      <td>0</td>\n",
       "      <td>0</td>\n",
       "      <td>0</td>\n",
       "      <td>0</td>\n",
       "      <td>1</td>\n",
       "      <td>0</td>\n",
       "      <td>0</td>\n",
       "      <td>0</td>\n",
       "      <td>0</td>\n",
       "    </tr>\n",
       "    <tr>\n",
       "      <th>8</th>\n",
       "      <td>d1mm9tcy42</td>\n",
       "      <td>index</td>\n",
       "      <td>Windows Desktop</td>\n",
       "      <td>24</td>\n",
       "      <td>view</td>\n",
       "      <td>0</td>\n",
       "      <td>0</td>\n",
       "      <td>0</td>\n",
       "      <td>0</td>\n",
       "      <td>0</td>\n",
       "      <td>...</td>\n",
       "      <td>0</td>\n",
       "      <td>1</td>\n",
       "      <td>0</td>\n",
       "      <td>0</td>\n",
       "      <td>0</td>\n",
       "      <td>0</td>\n",
       "      <td>0</td>\n",
       "      <td>0</td>\n",
       "      <td>0</td>\n",
       "      <td>0</td>\n",
       "    </tr>\n",
       "  </tbody>\n",
       "</table>\n",
       "<p>5 rows × 159 columns</p>\n",
       "</div>"
      ],
      "text/plain": [
       "      user_id          action      device_type  secs_elapsed action_type  \\\n",
       "1  d1mm9tcy42  search_results  Windows Desktop            24       click   \n",
       "3  d1mm9tcy42  search_results  Windows Desktop            24       click   \n",
       "5  d1mm9tcy42  search_results  Windows Desktop            24       click   \n",
       "7  d1mm9tcy42     personalize  Windows Desktop            24        data   \n",
       "8  d1mm9tcy42           index  Windows Desktop            24        view   \n",
       "\n",
       "   action_detail_account_notification_settings  \\\n",
       "1                                            0   \n",
       "3                                            0   \n",
       "5                                            0   \n",
       "7                                            0   \n",
       "8                                            0   \n",
       "\n",
       "   action_detail_account_payment_methods  \\\n",
       "1                                      0   \n",
       "3                                      0   \n",
       "5                                      0   \n",
       "7                                      0   \n",
       "8                                      0   \n",
       "\n",
       "   action_detail_account_payout_preferences  \\\n",
       "1                                         0   \n",
       "3                                         0   \n",
       "5                                         0   \n",
       "7                                         0   \n",
       "8                                         0   \n",
       "\n",
       "   action_detail_account_privacy_settings  \\\n",
       "1                                       0   \n",
       "3                                       0   \n",
       "5                                       0   \n",
       "7                                       0   \n",
       "8                                       0   \n",
       "\n",
       "   action_detail_account_transaction_history  ...  \\\n",
       "1                                          0  ...   \n",
       "3                                          0  ...   \n",
       "5                                          0  ...   \n",
       "7                                          0  ...   \n",
       "8                                          0  ...   \n",
       "\n",
       "   action_detail_view_resolutions  action_detail_view_search_results  \\\n",
       "1                               0                                  1   \n",
       "3                               0                                  1   \n",
       "5                               0                                  1   \n",
       "7                               0                                  0   \n",
       "8                               0                                  1   \n",
       "\n",
       "   action_detail_view_security_checks  action_detail_view_user_real_names  \\\n",
       "1                                   0                                   0   \n",
       "3                                   0                                   0   \n",
       "5                                   0                                   0   \n",
       "7                                   0                                   0   \n",
       "8                                   0                                   0   \n",
       "\n",
       "   action_detail_wishlist  action_detail_wishlist_content_update  \\\n",
       "1                       0                                      0   \n",
       "3                       0                                      0   \n",
       "5                       0                                      0   \n",
       "7                       0                                      1   \n",
       "8                       0                                      0   \n",
       "\n",
       "   action_detail_wishlist_note  action_detail_your_listings  \\\n",
       "1                            0                            0   \n",
       "3                            0                            0   \n",
       "5                            0                            0   \n",
       "7                            0                            0   \n",
       "8                            0                            0   \n",
       "\n",
       "   action_detail_your_reservations  action_detail_your_trips  \n",
       "1                                0                         0  \n",
       "3                                0                         0  \n",
       "5                                0                         0  \n",
       "7                                0                         0  \n",
       "8                                0                         0  \n",
       "\n",
       "[5 rows x 159 columns]"
      ]
     },
     "execution_count": 52,
     "metadata": {},
     "output_type": "execute_result"
    }
   ],
   "source": []
  },
  {
   "cell_type": "code",
   "execution_count": 55,
   "metadata": {},
   "outputs": [
    {
     "data": {
      "text/plain": [
       "Index(['user_id', 'action', 'device_type', 'secs_elapsed', 'action_type',\n",
       "       'action_detail_account_notification_settings',\n",
       "       'action_detail_account_payment_methods',\n",
       "       'action_detail_account_payout_preferences',\n",
       "       'action_detail_account_privacy_settings',\n",
       "       'action_detail_account_transaction_history',\n",
       "       ...\n",
       "       'action_detail_view_resolutions', 'action_detail_view_search_results',\n",
       "       'action_detail_view_security_checks',\n",
       "       'action_detail_view_user_real_names', 'action_detail_wishlist',\n",
       "       'action_detail_wishlist_content_update', 'action_detail_wishlist_note',\n",
       "       'action_detail_your_listings', 'action_detail_your_reservations',\n",
       "       'action_detail_your_trips'],\n",
       "      dtype='object', length=159)"
      ]
     },
     "execution_count": 55,
     "metadata": {},
     "output_type": "execute_result"
    }
   ],
   "source": [
    "df_weight.columns"
   ]
  },
  {
   "cell_type": "code",
   "execution_count": 56,
   "metadata": {},
   "outputs": [],
   "source": []
  },
  {
   "cell_type": "code",
   "execution_count": 57,
   "metadata": {},
   "outputs": [
    {
     "data": {
      "text/html": [
       "<div>\n",
       "<style scoped>\n",
       "    .dataframe tbody tr th:only-of-type {\n",
       "        vertical-align: middle;\n",
       "    }\n",
       "\n",
       "    .dataframe tbody tr th {\n",
       "        vertical-align: top;\n",
       "    }\n",
       "\n",
       "    .dataframe thead th {\n",
       "        text-align: right;\n",
       "    }\n",
       "</style>\n",
       "<table border=\"1\" class=\"dataframe\">\n",
       "  <thead>\n",
       "    <tr style=\"text-align: right;\">\n",
       "      <th></th>\n",
       "      <th>user_id</th>\n",
       "      <th>action_detail_account_notification_settings</th>\n",
       "      <th>action_detail_account_payment_methods</th>\n",
       "      <th>action_detail_account_payout_preferences</th>\n",
       "      <th>action_detail_account_privacy_settings</th>\n",
       "      <th>action_detail_account_transaction_history</th>\n",
       "      <th>action_detail_admin_templates</th>\n",
       "      <th>action_detail_airbnb_picks_wishlists</th>\n",
       "      <th>action_detail_alteration_field</th>\n",
       "      <th>action_detail_alteration_request</th>\n",
       "      <th>...</th>\n",
       "      <th>action_detail_view_resolutions</th>\n",
       "      <th>action_detail_view_search_results</th>\n",
       "      <th>action_detail_view_security_checks</th>\n",
       "      <th>action_detail_view_user_real_names</th>\n",
       "      <th>action_detail_wishlist</th>\n",
       "      <th>action_detail_wishlist_content_update</th>\n",
       "      <th>action_detail_wishlist_note</th>\n",
       "      <th>action_detail_your_listings</th>\n",
       "      <th>action_detail_your_reservations</th>\n",
       "      <th>action_detail_your_trips</th>\n",
       "    </tr>\n",
       "  </thead>\n",
       "  <tbody>\n",
       "    <tr>\n",
       "      <th>1</th>\n",
       "      <td>d1mm9tcy42</td>\n",
       "      <td>0</td>\n",
       "      <td>0</td>\n",
       "      <td>0</td>\n",
       "      <td>0</td>\n",
       "      <td>0</td>\n",
       "      <td>0</td>\n",
       "      <td>0</td>\n",
       "      <td>0</td>\n",
       "      <td>0</td>\n",
       "      <td>...</td>\n",
       "      <td>0</td>\n",
       "      <td>1</td>\n",
       "      <td>0</td>\n",
       "      <td>0</td>\n",
       "      <td>0</td>\n",
       "      <td>0</td>\n",
       "      <td>0</td>\n",
       "      <td>0</td>\n",
       "      <td>0</td>\n",
       "      <td>0</td>\n",
       "    </tr>\n",
       "    <tr>\n",
       "      <th>3</th>\n",
       "      <td>d1mm9tcy42</td>\n",
       "      <td>0</td>\n",
       "      <td>0</td>\n",
       "      <td>0</td>\n",
       "      <td>0</td>\n",
       "      <td>0</td>\n",
       "      <td>0</td>\n",
       "      <td>0</td>\n",
       "      <td>0</td>\n",
       "      <td>0</td>\n",
       "      <td>...</td>\n",
       "      <td>0</td>\n",
       "      <td>1</td>\n",
       "      <td>0</td>\n",
       "      <td>0</td>\n",
       "      <td>0</td>\n",
       "      <td>0</td>\n",
       "      <td>0</td>\n",
       "      <td>0</td>\n",
       "      <td>0</td>\n",
       "      <td>0</td>\n",
       "    </tr>\n",
       "    <tr>\n",
       "      <th>5</th>\n",
       "      <td>d1mm9tcy42</td>\n",
       "      <td>0</td>\n",
       "      <td>0</td>\n",
       "      <td>0</td>\n",
       "      <td>0</td>\n",
       "      <td>0</td>\n",
       "      <td>0</td>\n",
       "      <td>0</td>\n",
       "      <td>0</td>\n",
       "      <td>0</td>\n",
       "      <td>...</td>\n",
       "      <td>0</td>\n",
       "      <td>1</td>\n",
       "      <td>0</td>\n",
       "      <td>0</td>\n",
       "      <td>0</td>\n",
       "      <td>0</td>\n",
       "      <td>0</td>\n",
       "      <td>0</td>\n",
       "      <td>0</td>\n",
       "      <td>0</td>\n",
       "    </tr>\n",
       "    <tr>\n",
       "      <th>7</th>\n",
       "      <td>d1mm9tcy42</td>\n",
       "      <td>0</td>\n",
       "      <td>0</td>\n",
       "      <td>0</td>\n",
       "      <td>0</td>\n",
       "      <td>0</td>\n",
       "      <td>0</td>\n",
       "      <td>0</td>\n",
       "      <td>0</td>\n",
       "      <td>0</td>\n",
       "      <td>...</td>\n",
       "      <td>0</td>\n",
       "      <td>0</td>\n",
       "      <td>0</td>\n",
       "      <td>0</td>\n",
       "      <td>0</td>\n",
       "      <td>1</td>\n",
       "      <td>0</td>\n",
       "      <td>0</td>\n",
       "      <td>0</td>\n",
       "      <td>0</td>\n",
       "    </tr>\n",
       "    <tr>\n",
       "      <th>8</th>\n",
       "      <td>d1mm9tcy42</td>\n",
       "      <td>0</td>\n",
       "      <td>0</td>\n",
       "      <td>0</td>\n",
       "      <td>0</td>\n",
       "      <td>0</td>\n",
       "      <td>0</td>\n",
       "      <td>0</td>\n",
       "      <td>0</td>\n",
       "      <td>0</td>\n",
       "      <td>...</td>\n",
       "      <td>0</td>\n",
       "      <td>1</td>\n",
       "      <td>0</td>\n",
       "      <td>0</td>\n",
       "      <td>0</td>\n",
       "      <td>0</td>\n",
       "      <td>0</td>\n",
       "      <td>0</td>\n",
       "      <td>0</td>\n",
       "      <td>0</td>\n",
       "    </tr>\n",
       "  </tbody>\n",
       "</table>\n",
       "<p>5 rows × 155 columns</p>\n",
       "</div>"
      ],
      "text/plain": [
       "      user_id  action_detail_account_notification_settings  \\\n",
       "1  d1mm9tcy42                                            0   \n",
       "3  d1mm9tcy42                                            0   \n",
       "5  d1mm9tcy42                                            0   \n",
       "7  d1mm9tcy42                                            0   \n",
       "8  d1mm9tcy42                                            0   \n",
       "\n",
       "   action_detail_account_payment_methods  \\\n",
       "1                                      0   \n",
       "3                                      0   \n",
       "5                                      0   \n",
       "7                                      0   \n",
       "8                                      0   \n",
       "\n",
       "   action_detail_account_payout_preferences  \\\n",
       "1                                         0   \n",
       "3                                         0   \n",
       "5                                         0   \n",
       "7                                         0   \n",
       "8                                         0   \n",
       "\n",
       "   action_detail_account_privacy_settings  \\\n",
       "1                                       0   \n",
       "3                                       0   \n",
       "5                                       0   \n",
       "7                                       0   \n",
       "8                                       0   \n",
       "\n",
       "   action_detail_account_transaction_history  action_detail_admin_templates  \\\n",
       "1                                          0                              0   \n",
       "3                                          0                              0   \n",
       "5                                          0                              0   \n",
       "7                                          0                              0   \n",
       "8                                          0                              0   \n",
       "\n",
       "   action_detail_airbnb_picks_wishlists  action_detail_alteration_field  \\\n",
       "1                                     0                               0   \n",
       "3                                     0                               0   \n",
       "5                                     0                               0   \n",
       "7                                     0                               0   \n",
       "8                                     0                               0   \n",
       "\n",
       "   action_detail_alteration_request  ...  action_detail_view_resolutions  \\\n",
       "1                                 0  ...                               0   \n",
       "3                                 0  ...                               0   \n",
       "5                                 0  ...                               0   \n",
       "7                                 0  ...                               0   \n",
       "8                                 0  ...                               0   \n",
       "\n",
       "   action_detail_view_search_results  action_detail_view_security_checks  \\\n",
       "1                                  1                                   0   \n",
       "3                                  1                                   0   \n",
       "5                                  1                                   0   \n",
       "7                                  0                                   0   \n",
       "8                                  1                                   0   \n",
       "\n",
       "   action_detail_view_user_real_names  action_detail_wishlist  \\\n",
       "1                                   0                       0   \n",
       "3                                   0                       0   \n",
       "5                                   0                       0   \n",
       "7                                   0                       0   \n",
       "8                                   0                       0   \n",
       "\n",
       "   action_detail_wishlist_content_update  action_detail_wishlist_note  \\\n",
       "1                                      0                            0   \n",
       "3                                      0                            0   \n",
       "5                                      0                            0   \n",
       "7                                      1                            0   \n",
       "8                                      0                            0   \n",
       "\n",
       "   action_detail_your_listings  action_detail_your_reservations  \\\n",
       "1                            0                                0   \n",
       "3                            0                                0   \n",
       "5                            0                                0   \n",
       "7                            0                                0   \n",
       "8                            0                                0   \n",
       "\n",
       "   action_detail_your_trips  \n",
       "1                         0  \n",
       "3                         0  \n",
       "5                         0  \n",
       "7                         0  \n",
       "8                         0  \n",
       "\n",
       "[5 rows x 155 columns]"
      ]
     },
     "execution_count": 57,
     "metadata": {},
     "output_type": "execute_result"
    }
   ],
   "source": []
  },
  {
   "cell_type": "code",
   "execution_count": null,
   "metadata": {},
   "outputs": [],
   "source": []
  }
 ],
 "metadata": {
  "kernelspec": {
   "display_name": "Python 3",
   "language": "python",
   "name": "python3"
  },
  "language_info": {
   "codemirror_mode": {
    "name": "ipython",
    "version": 3
   },
   "file_extension": ".py",
   "mimetype": "text/x-python",
   "name": "python",
   "nbconvert_exporter": "python",
   "pygments_lexer": "ipython3",
   "version": "3.8.3"
  }
 },
 "nbformat": 4,
 "nbformat_minor": 4
}
