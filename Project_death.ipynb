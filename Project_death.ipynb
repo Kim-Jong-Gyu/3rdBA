{
 "cells": [
  {
   "cell_type": "code",
   "execution_count": 1,
   "metadata": {},
   "outputs": [],
   "source": [
    "import pandas as pd\n",
    "import numpy as np\n",
    "import seaborn as sns\n",
    "import matplotlib.pyplot as plt\n",
    "\n",
    "\n",
    "df_test=pd.read_csv(\"/Users/kimjong-gyu/Desktop/airbnb-recruiting-new-user-bookings/test_users.csv\")\n",
    "df_train=pd.read_csv(\"/Users/kimjong-gyu/Desktop/airbnb-recruiting-new-user-bookings/train_users_2.csv\")\n",
    "df_session=pd.read_csv(\"/Users/kimjong-gyu/Desktop/airbnb-recruiting-new-user-bookings/sessions.csv\")\n",
    "\n"
   ]
  },
  {
   "cell_type": "code",
   "execution_count": 2,
   "metadata": {},
   "outputs": [
    {
     "data": {
      "text/plain": [
       "Index(['id', 'date_account_created', 'timestamp_first_active',\n",
       "       'date_first_booking', 'gender', 'age', 'signup_method', 'signup_flow',\n",
       "       'language', 'affiliate_channel', 'affiliate_provider',\n",
       "       'first_affiliate_tracked', 'signup_app', 'first_device_type',\n",
       "       'first_browser', 'country_destination'],\n",
       "      dtype='object')"
      ]
     },
     "execution_count": 2,
     "metadata": {},
     "output_type": "execute_result"
    }
   ],
   "source": [
    "df_train.columns"
   ]
  },
  {
   "cell_type": "code",
   "execution_count": 3,
   "metadata": {},
   "outputs": [],
   "source": [
    "df = pd.concat((df_train,df_test ), axis=0, ignore_index=True)"
   ]
  },
  {
   "cell_type": "code",
   "execution_count": 4,
   "metadata": {},
   "outputs": [
    {
     "data": {
      "text/html": [
       "<div>\n",
       "<style scoped>\n",
       "    .dataframe tbody tr th:only-of-type {\n",
       "        vertical-align: middle;\n",
       "    }\n",
       "\n",
       "    .dataframe tbody tr th {\n",
       "        vertical-align: top;\n",
       "    }\n",
       "\n",
       "    .dataframe thead th {\n",
       "        text-align: right;\n",
       "    }\n",
       "</style>\n",
       "<table border=\"1\" class=\"dataframe\">\n",
       "  <thead>\n",
       "    <tr style=\"text-align: right;\">\n",
       "      <th></th>\n",
       "      <th>id</th>\n",
       "      <th>date_account_created</th>\n",
       "      <th>timestamp_first_active</th>\n",
       "      <th>date_first_booking</th>\n",
       "      <th>gender</th>\n",
       "      <th>age</th>\n",
       "      <th>signup_method</th>\n",
       "      <th>signup_flow</th>\n",
       "      <th>language</th>\n",
       "      <th>affiliate_channel</th>\n",
       "      <th>affiliate_provider</th>\n",
       "      <th>first_affiliate_tracked</th>\n",
       "      <th>signup_app</th>\n",
       "      <th>first_device_type</th>\n",
       "      <th>first_browser</th>\n",
       "      <th>country_destination</th>\n",
       "    </tr>\n",
       "  </thead>\n",
       "  <tbody>\n",
       "    <tr>\n",
       "      <th>0</th>\n",
       "      <td>gxn3p5htnn</td>\n",
       "      <td>2010-06-28</td>\n",
       "      <td>20090319043255</td>\n",
       "      <td>NaN</td>\n",
       "      <td>-unknown-</td>\n",
       "      <td>NaN</td>\n",
       "      <td>facebook</td>\n",
       "      <td>0</td>\n",
       "      <td>en</td>\n",
       "      <td>direct</td>\n",
       "      <td>direct</td>\n",
       "      <td>untracked</td>\n",
       "      <td>Web</td>\n",
       "      <td>Mac Desktop</td>\n",
       "      <td>Chrome</td>\n",
       "      <td>NDF</td>\n",
       "    </tr>\n",
       "    <tr>\n",
       "      <th>1</th>\n",
       "      <td>820tgsjxq7</td>\n",
       "      <td>2011-05-25</td>\n",
       "      <td>20090523174809</td>\n",
       "      <td>NaN</td>\n",
       "      <td>MALE</td>\n",
       "      <td>38.0</td>\n",
       "      <td>facebook</td>\n",
       "      <td>0</td>\n",
       "      <td>en</td>\n",
       "      <td>seo</td>\n",
       "      <td>google</td>\n",
       "      <td>untracked</td>\n",
       "      <td>Web</td>\n",
       "      <td>Mac Desktop</td>\n",
       "      <td>Chrome</td>\n",
       "      <td>NDF</td>\n",
       "    </tr>\n",
       "    <tr>\n",
       "      <th>2</th>\n",
       "      <td>4ft3gnwmtx</td>\n",
       "      <td>2010-09-28</td>\n",
       "      <td>20090609231247</td>\n",
       "      <td>2010-08-02</td>\n",
       "      <td>FEMALE</td>\n",
       "      <td>56.0</td>\n",
       "      <td>basic</td>\n",
       "      <td>3</td>\n",
       "      <td>en</td>\n",
       "      <td>direct</td>\n",
       "      <td>direct</td>\n",
       "      <td>untracked</td>\n",
       "      <td>Web</td>\n",
       "      <td>Windows Desktop</td>\n",
       "      <td>IE</td>\n",
       "      <td>US</td>\n",
       "    </tr>\n",
       "    <tr>\n",
       "      <th>3</th>\n",
       "      <td>bjjt8pjhuk</td>\n",
       "      <td>2011-12-05</td>\n",
       "      <td>20091031060129</td>\n",
       "      <td>2012-09-08</td>\n",
       "      <td>FEMALE</td>\n",
       "      <td>42.0</td>\n",
       "      <td>facebook</td>\n",
       "      <td>0</td>\n",
       "      <td>en</td>\n",
       "      <td>direct</td>\n",
       "      <td>direct</td>\n",
       "      <td>untracked</td>\n",
       "      <td>Web</td>\n",
       "      <td>Mac Desktop</td>\n",
       "      <td>Firefox</td>\n",
       "      <td>other</td>\n",
       "    </tr>\n",
       "    <tr>\n",
       "      <th>4</th>\n",
       "      <td>87mebub9p4</td>\n",
       "      <td>2010-09-14</td>\n",
       "      <td>20091208061105</td>\n",
       "      <td>2010-02-18</td>\n",
       "      <td>-unknown-</td>\n",
       "      <td>41.0</td>\n",
       "      <td>basic</td>\n",
       "      <td>0</td>\n",
       "      <td>en</td>\n",
       "      <td>direct</td>\n",
       "      <td>direct</td>\n",
       "      <td>untracked</td>\n",
       "      <td>Web</td>\n",
       "      <td>Mac Desktop</td>\n",
       "      <td>Chrome</td>\n",
       "      <td>US</td>\n",
       "    </tr>\n",
       "  </tbody>\n",
       "</table>\n",
       "</div>"
      ],
      "text/plain": [
       "           id date_account_created  timestamp_first_active date_first_booking  \\\n",
       "0  gxn3p5htnn           2010-06-28          20090319043255                NaN   \n",
       "1  820tgsjxq7           2011-05-25          20090523174809                NaN   \n",
       "2  4ft3gnwmtx           2010-09-28          20090609231247         2010-08-02   \n",
       "3  bjjt8pjhuk           2011-12-05          20091031060129         2012-09-08   \n",
       "4  87mebub9p4           2010-09-14          20091208061105         2010-02-18   \n",
       "\n",
       "      gender   age signup_method  signup_flow language affiliate_channel  \\\n",
       "0  -unknown-   NaN      facebook            0       en            direct   \n",
       "1       MALE  38.0      facebook            0       en               seo   \n",
       "2     FEMALE  56.0         basic            3       en            direct   \n",
       "3     FEMALE  42.0      facebook            0       en            direct   \n",
       "4  -unknown-  41.0         basic            0       en            direct   \n",
       "\n",
       "  affiliate_provider first_affiliate_tracked signup_app first_device_type  \\\n",
       "0             direct               untracked        Web       Mac Desktop   \n",
       "1             google               untracked        Web       Mac Desktop   \n",
       "2             direct               untracked        Web   Windows Desktop   \n",
       "3             direct               untracked        Web       Mac Desktop   \n",
       "4             direct               untracked        Web       Mac Desktop   \n",
       "\n",
       "  first_browser country_destination  \n",
       "0        Chrome                 NDF  \n",
       "1        Chrome                 NDF  \n",
       "2            IE                  US  \n",
       "3       Firefox               other  \n",
       "4        Chrome                  US  "
      ]
     },
     "execution_count": 4,
     "metadata": {},
     "output_type": "execute_result"
    }
   ],
   "source": [
    "df.head()"
   ]
  },
  {
   "cell_type": "code",
   "execution_count": 5,
   "metadata": {},
   "outputs": [
    {
     "data": {
      "text/plain": [
       "id                              0\n",
       "date_account_created            0\n",
       "timestamp_first_active          0\n",
       "date_first_booking         186639\n",
       "gender                          0\n",
       "age                        116866\n",
       "signup_method                   0\n",
       "signup_flow                     0\n",
       "language                        0\n",
       "affiliate_channel               0\n",
       "affiliate_provider              0\n",
       "first_affiliate_tracked      6085\n",
       "signup_app                      0\n",
       "first_device_type               0\n",
       "first_browser                   0\n",
       "country_destination         62096\n",
       "dtype: int64"
      ]
     },
     "execution_count": 5,
     "metadata": {},
     "output_type": "execute_result"
    }
   ],
   "source": [
    "df.isnull().sum()"
   ]
  },
  {
   "cell_type": "code",
   "execution_count": 440,
   "metadata": {},
   "outputs": [
    {
     "data": {
      "text/plain": [
       "count    158681.000000\n",
       "mean         47.145310\n",
       "std         142.629468\n",
       "min           1.000000\n",
       "25%          28.000000\n",
       "50%          33.000000\n",
       "75%          42.000000\n",
       "max        2014.000000\n",
       "Name: age, dtype: float64"
      ]
     },
     "execution_count": 440,
     "metadata": {},
     "output_type": "execute_result"
    }
   ],
   "source": [
    "df.age.describe()"
   ]
  },
  {
   "cell_type": "code",
   "execution_count": 441,
   "metadata": {},
   "outputs": [
    {
     "data": {
      "text/plain": [
       "count     828.000000\n",
       "mean     2007.117150\n",
       "std        22.219408\n",
       "min      1920.000000\n",
       "25%      2014.000000\n",
       "50%      2014.000000\n",
       "75%      2014.000000\n",
       "max      2014.000000\n",
       "Name: age, dtype: float64"
      ]
     },
     "execution_count": 441,
     "metadata": {},
     "output_type": "execute_result"
    }
   ],
   "source": [
    "#1000살 이상을 처리해야한다. \n",
    "df.loc[df['age'] > 1000]['age'].describe()"
   ]
  },
  {
   "cell_type": "code",
   "execution_count": 442,
   "metadata": {},
   "outputs": [
    {
     "data": {
      "text/plain": [
       "count    188.000000\n",
       "mean      12.718085\n",
       "std        5.764569\n",
       "min        1.000000\n",
       "25%        5.000000\n",
       "50%       16.000000\n",
       "75%       17.000000\n",
       "max       17.000000\n",
       "Name: age, dtype: float64"
      ]
     },
     "execution_count": 442,
     "metadata": {},
     "output_type": "execute_result"
    }
   ],
   "source": [
    "df.loc[df['age'] < 18]['age'].describe()"
   ]
  },
  {
   "cell_type": "code",
   "execution_count": 443,
   "metadata": {},
   "outputs": [],
   "source": [
    "df_with_year = df['age'] > 1000\n",
    "df.loc[df_with_year, 'age'] = 2015 - df.loc[df_with_year, 'age']"
   ]
  },
  {
   "cell_type": "code",
   "execution_count": 444,
   "metadata": {},
   "outputs": [
    {
     "data": {
      "text/plain": [
       "count    158681.000000\n",
       "mean         36.713274\n",
       "std          14.046364\n",
       "min           1.000000\n",
       "25%          28.000000\n",
       "50%          33.000000\n",
       "75%          42.000000\n",
       "max         150.000000\n",
       "Name: age, dtype: float64"
      ]
     },
     "execution_count": 444,
     "metadata": {},
     "output_type": "execute_result"
    }
   ],
   "source": [
    "## After that, the Minimum age at 1 and Maximum age at 150 were not realistic, we will set limit for the age, and set nan for outliers.\n",
    "df.age.describe()\n"
   ]
  },
  {
   "cell_type": "code",
   "execution_count": 445,
   "metadata": {},
   "outputs": [
    {
     "data": {
      "text/plain": [
       "array([nan, 38., 56., 42., 41., 46., 47., 50., 36., 37., 33., 31., 29.,\n",
       "       30., 40., 26., 32., 35., 59., 49., 44., 34., 28., 19., 53., 52.,\n",
       "       39., 57., 25., 54., 69., 63., 43., 55., 65., 58., 61., 18., 27.,\n",
       "       45., 60., 48., 51., 64., 72., 70., 67., 73., 66., 68., 95., 24.,\n",
       "       94., 75., 79., 62., 16., 23., 76., 74., 87., 92., 71., 84., 78.,\n",
       "       82., 77., 22., 89., 21., 20., 17., 86., 81., 90., 88., 80., 91.,\n",
       "       83., 85., 93.])"
      ]
     },
     "execution_count": 445,
     "metadata": {},
     "output_type": "execute_result"
    }
   ],
   "source": [
    "## 16 ~ 95살 까지만 따진다. \n",
    "df.loc[df.age > 95, 'age'] = np.nan\n",
    "df.loc[df.age < 16, 'age'] = np.nan\n",
    "df['age'].unique()"
   ]
  },
  {
   "cell_type": "code",
   "execution_count": 446,
   "metadata": {},
   "outputs": [
    {
     "name": "stdout",
     "output_type": "stream",
     "text": [
      "count    122987.000000\n",
      "mean         36.523714\n",
      "std          11.588499\n",
      "min          16.000000\n",
      "25%          28.000000\n",
      "50%          34.000000\n",
      "75%          42.000000\n",
      "max          95.000000\n",
      "Name: age, dtype: float64\n"
     ]
    }
   ],
   "source": [
    "## nan값에 전체의 평균값으로 채우기 위해 바꿔준다. \n",
    "av = df.age.values\n",
    "print(df[:213451].age.describe())\n",
    "mean_age=int(df[:213451].age.mean())"
   ]
  },
  {
   "cell_type": "code",
   "execution_count": 447,
   "metadata": {},
   "outputs": [
    {
     "data": {
      "text/html": [
       "<div>\n",
       "<style scoped>\n",
       "    .dataframe tbody tr th:only-of-type {\n",
       "        vertical-align: middle;\n",
       "    }\n",
       "\n",
       "    .dataframe tbody tr th {\n",
       "        vertical-align: top;\n",
       "    }\n",
       "\n",
       "    .dataframe thead th {\n",
       "        text-align: right;\n",
       "    }\n",
       "</style>\n",
       "<table border=\"1\" class=\"dataframe\">\n",
       "  <thead>\n",
       "    <tr style=\"text-align: right;\">\n",
       "      <th></th>\n",
       "      <th>id</th>\n",
       "      <th>date_account_created</th>\n",
       "      <th>timestamp_first_active</th>\n",
       "      <th>date_first_booking</th>\n",
       "      <th>gender</th>\n",
       "      <th>age</th>\n",
       "      <th>signup_method</th>\n",
       "      <th>signup_flow</th>\n",
       "      <th>language</th>\n",
       "      <th>affiliate_channel</th>\n",
       "      <th>affiliate_provider</th>\n",
       "      <th>first_affiliate_tracked</th>\n",
       "      <th>signup_app</th>\n",
       "      <th>first_device_type</th>\n",
       "      <th>first_browser</th>\n",
       "      <th>country_destination</th>\n",
       "    </tr>\n",
       "  </thead>\n",
       "  <tbody>\n",
       "    <tr>\n",
       "      <th>0</th>\n",
       "      <td>gxn3p5htnn</td>\n",
       "      <td>2010-06-28</td>\n",
       "      <td>20090319043255</td>\n",
       "      <td>NaN</td>\n",
       "      <td>-unknown-</td>\n",
       "      <td>36.0</td>\n",
       "      <td>facebook</td>\n",
       "      <td>0</td>\n",
       "      <td>en</td>\n",
       "      <td>direct</td>\n",
       "      <td>direct</td>\n",
       "      <td>untracked</td>\n",
       "      <td>Web</td>\n",
       "      <td>Mac Desktop</td>\n",
       "      <td>Chrome</td>\n",
       "      <td>NDF</td>\n",
       "    </tr>\n",
       "    <tr>\n",
       "      <th>1</th>\n",
       "      <td>820tgsjxq7</td>\n",
       "      <td>2011-05-25</td>\n",
       "      <td>20090523174809</td>\n",
       "      <td>NaN</td>\n",
       "      <td>MALE</td>\n",
       "      <td>38.0</td>\n",
       "      <td>facebook</td>\n",
       "      <td>0</td>\n",
       "      <td>en</td>\n",
       "      <td>seo</td>\n",
       "      <td>google</td>\n",
       "      <td>untracked</td>\n",
       "      <td>Web</td>\n",
       "      <td>Mac Desktop</td>\n",
       "      <td>Chrome</td>\n",
       "      <td>NDF</td>\n",
       "    </tr>\n",
       "    <tr>\n",
       "      <th>2</th>\n",
       "      <td>4ft3gnwmtx</td>\n",
       "      <td>2010-09-28</td>\n",
       "      <td>20090609231247</td>\n",
       "      <td>2010-08-02</td>\n",
       "      <td>FEMALE</td>\n",
       "      <td>56.0</td>\n",
       "      <td>basic</td>\n",
       "      <td>3</td>\n",
       "      <td>en</td>\n",
       "      <td>direct</td>\n",
       "      <td>direct</td>\n",
       "      <td>untracked</td>\n",
       "      <td>Web</td>\n",
       "      <td>Windows Desktop</td>\n",
       "      <td>IE</td>\n",
       "      <td>US</td>\n",
       "    </tr>\n",
       "    <tr>\n",
       "      <th>3</th>\n",
       "      <td>bjjt8pjhuk</td>\n",
       "      <td>2011-12-05</td>\n",
       "      <td>20091031060129</td>\n",
       "      <td>2012-09-08</td>\n",
       "      <td>FEMALE</td>\n",
       "      <td>42.0</td>\n",
       "      <td>facebook</td>\n",
       "      <td>0</td>\n",
       "      <td>en</td>\n",
       "      <td>direct</td>\n",
       "      <td>direct</td>\n",
       "      <td>untracked</td>\n",
       "      <td>Web</td>\n",
       "      <td>Mac Desktop</td>\n",
       "      <td>Firefox</td>\n",
       "      <td>other</td>\n",
       "    </tr>\n",
       "    <tr>\n",
       "      <th>4</th>\n",
       "      <td>87mebub9p4</td>\n",
       "      <td>2010-09-14</td>\n",
       "      <td>20091208061105</td>\n",
       "      <td>2010-02-18</td>\n",
       "      <td>-unknown-</td>\n",
       "      <td>41.0</td>\n",
       "      <td>basic</td>\n",
       "      <td>0</td>\n",
       "      <td>en</td>\n",
       "      <td>direct</td>\n",
       "      <td>direct</td>\n",
       "      <td>untracked</td>\n",
       "      <td>Web</td>\n",
       "      <td>Mac Desktop</td>\n",
       "      <td>Chrome</td>\n",
       "      <td>US</td>\n",
       "    </tr>\n",
       "  </tbody>\n",
       "</table>\n",
       "</div>"
      ],
      "text/plain": [
       "           id date_account_created  timestamp_first_active date_first_booking  \\\n",
       "0  gxn3p5htnn           2010-06-28          20090319043255                NaN   \n",
       "1  820tgsjxq7           2011-05-25          20090523174809                NaN   \n",
       "2  4ft3gnwmtx           2010-09-28          20090609231247         2010-08-02   \n",
       "3  bjjt8pjhuk           2011-12-05          20091031060129         2012-09-08   \n",
       "4  87mebub9p4           2010-09-14          20091208061105         2010-02-18   \n",
       "\n",
       "      gender   age signup_method  signup_flow language affiliate_channel  \\\n",
       "0  -unknown-  36.0      facebook            0       en            direct   \n",
       "1       MALE  38.0      facebook            0       en               seo   \n",
       "2     FEMALE  56.0         basic            3       en            direct   \n",
       "3     FEMALE  42.0      facebook            0       en            direct   \n",
       "4  -unknown-  41.0         basic            0       en            direct   \n",
       "\n",
       "  affiliate_provider first_affiliate_tracked signup_app first_device_type  \\\n",
       "0             direct               untracked        Web       Mac Desktop   \n",
       "1             google               untracked        Web       Mac Desktop   \n",
       "2             direct               untracked        Web   Windows Desktop   \n",
       "3             direct               untracked        Web       Mac Desktop   \n",
       "4             direct               untracked        Web       Mac Desktop   \n",
       "\n",
       "  first_browser country_destination  \n",
       "0        Chrome                 NDF  \n",
       "1        Chrome                 NDF  \n",
       "2            IE                  US  \n",
       "3       Firefox               other  \n",
       "4        Chrome                  US  "
      ]
     },
     "execution_count": 447,
     "metadata": {},
     "output_type": "execute_result"
    }
   ],
   "source": [
    "df.age=df.age.fillna(value=mean_age)\n",
    "df.head()"
   ]
  },
  {
   "cell_type": "code",
   "execution_count": 448,
   "metadata": {},
   "outputs": [
    {
     "data": {
      "image/png": "[encoded data removed]",
      "text/plain": [
       "<Figure size 864x432 with 1 Axes>"
      ]
     },
     "metadata": {
      "needs_background": "light"
     },
     "output_type": "display_data"
    }
   ],
   "source": [
    "## 나이 결과값을 시각적 그래프로 그렸을때의 모습\n",
    "plt.figure(figsize=(12,6))\n",
    "sns.distplot(df.age.dropna(), rug=True)\n",
    "sns.despine()"
   ]
  },
  {
   "cell_type": "code",
   "execution_count": 449,
   "metadata": {},
   "outputs": [
    {
     "data": {
      "image/png": "[encoded data removed]",
      "text/plain": [
       "<Figure size 864x432 with 1 Axes>"
      ]
     },
     "metadata": {
      "needs_background": "light"
     },
     "output_type": "display_data"
    }
   ],
   "source": [
    "#Gender 처리 \n",
    "plt.figure(figsize=(12,6))\n",
    "df[\"gender\"] = df['gender'].fillna('M')\n",
    "sns.countplot(data=df, x='gender')\n",
    "plt.xticks(np.arange(4), (\"Unknown\", \"Male\", \"Female\", \"Other\"))\n",
    "plt.ylabel('Number of users')\n",
    "plt.title('Users gender distribution')\n",
    "sns.despine()"
   ]
  },
  {
   "cell_type": "code",
   "execution_count": 450,
   "metadata": {},
   "outputs": [],
   "source": [
    "Gend=['MALE','FEMALE']"
   ]
  },
  {
   "cell_type": "code",
   "execution_count": 451,
   "metadata": {},
   "outputs": [],
   "source": [
    "## 'gender'의 경우, 값이 '-unknown-'이면 'Male', 'Female' 중 랜덤하게 넣는다.\n",
    "import random\n",
    "df['gender']=df['gender'].map(lambda x:random.choice(Gend) if x== '-unknown-' else x)\n"
   ]
  },
  {
   "cell_type": "code",
   "execution_count": 452,
   "metadata": {},
   "outputs": [
    {
     "data": {
      "text/plain": [
       "array(['FEMALE', 'MALE', 'OTHER'], dtype=object)"
      ]
     },
     "execution_count": 452,
     "metadata": {},
     "output_type": "execute_result"
    }
   ],
   "source": [
    "df['gender'].unique()"
   ]
  },
  {
   "cell_type": "code",
   "execution_count": 453,
   "metadata": {},
   "outputs": [],
   "source": [
    "df.gender.replace('OTHER', np.nan, inplace=True)"
   ]
  },
  {
   "cell_type": "code",
   "execution_count": 454,
   "metadata": {},
   "outputs": [],
   "source": [
    "df.dropna(subset=['gender'],inplace=True)"
   ]
  },
  {
   "cell_type": "code",
   "execution_count": 455,
   "metadata": {},
   "outputs": [
    {
     "data": {
      "text/plain": [
       "array(['FEMALE', 'MALE'], dtype=object)"
      ]
     },
     "execution_count": 455,
     "metadata": {},
     "output_type": "execute_result"
    }
   ],
   "source": [
    "df['gender'].unique()"
   ]
  },
  {
   "cell_type": "code",
   "execution_count": 456,
   "metadata": {},
   "outputs": [],
   "source": [
    "#타켓 value 설정 \n",
    "df.isnull().sum()\n",
    "df.dropna(subset=['date_first_booking'],inplace=True)"
   ]
  },
  {
   "cell_type": "code",
   "execution_count": 457,
   "metadata": {},
   "outputs": [
    {
     "data": {
      "text/plain": [
       "id                            0\n",
       "date_account_created          0\n",
       "timestamp_first_active        0\n",
       "date_first_booking            0\n",
       "gender                        0\n",
       "age                           0\n",
       "signup_method                 0\n",
       "signup_flow                   0\n",
       "language                      0\n",
       "affiliate_channel             0\n",
       "affiliate_provider            0\n",
       "first_affiliate_tracked    1738\n",
       "signup_app                    0\n",
       "first_device_type             0\n",
       "first_browser                 0\n",
       "country_destination           0\n",
       "dtype: int64"
      ]
     },
     "execution_count": 457,
     "metadata": {},
     "output_type": "execute_result"
    }
   ],
   "source": [
    "df.isnull().sum()"
   ]
  },
  {
   "cell_type": "code",
   "execution_count": 458,
   "metadata": {},
   "outputs": [],
   "source": [
    "#first_affiliate_tracked 결측치 제거 -> 개수가 별로 안돼용~~\n",
    "df.dropna(subset=['first_affiliate_tracked'], inplace=True)"
   ]
  },
  {
   "cell_type": "code",
   "execution_count": 531,
   "metadata": {},
   "outputs": [],
   "source": [
    "# Target - value 만들기 \n",
    "# duration ->  date-first-booking(처음 예약한 날짜) 변수와 timestampfirst-active(첫 온라인 활동 날짜 및 시간) 변수의 차이\n",
    "df['timestamp_first_active'].unique()\n",
    "df['timestamp_first_active'] = df['timestamp_first_active'].astype(str)\n",
    "\n",
    "\n",
    "\n"
   ]
  },
  {
   "cell_type": "code",
   "execution_count": 532,
   "metadata": {},
   "outputs": [],
   "source": [
    "df[\"tfa_date\"] = df[\"timestamp_first_active\"].str[0:4] + \"-\" + df[\"timestamp_first_active\"].str[4:6] + \"-\" + df[\"timestamp_first_active\"].str[6:8]\n",
    "\n",
    "df[\"tfa_date\"] = df[\"tfa_date\"].astype('datetime64[ns]')\n",
    "df[\"date_first_booking\"] = df[\"date_first_booking\"].astype('datetime64[ns]')\n",
    "\n"
   ]
  },
  {
   "cell_type": "code",
   "execution_count": 533,
   "metadata": {},
   "outputs": [
    {
     "data": {
      "text/plain": [
       "id                                 object\n",
       "date_account_created               object\n",
       "timestamp_first_active             object\n",
       "date_first_booking         datetime64[ns]\n",
       "gender                             object\n",
       "age                               float64\n",
       "signup_method                      object\n",
       "signup_flow                         int64\n",
       "language                           object\n",
       "affiliate_channel                  object\n",
       "affiliate_provider                 object\n",
       "first_affiliate_tracked            object\n",
       "signup_app                         object\n",
       "first_device_type                  object\n",
       "first_browser                      object\n",
       "country_destination                object\n",
       "tfa_date                   datetime64[ns]\n",
       "duration                           string\n",
       "dtype: object"
      ]
     },
     "execution_count": 533,
     "metadata": {},
     "output_type": "execute_result"
    }
   ],
   "source": [
    "df.dtypes"
   ]
  },
  {
   "cell_type": "code",
   "execution_count": 534,
   "metadata": {},
   "outputs": [],
   "source": [
    "#target value\n",
    "from datetime import datetime, timedelta\n",
    "\n",
    "df['duration']=df['date_first_booking']-df['tfa_date']"
   ]
  },
  {
   "cell_type": "code",
   "execution_count": 535,
   "metadata": {
    "scrolled": true
   },
   "outputs": [
    {
     "data": {
      "text/plain": [
       "{'whiskers': [<matplotlib.lines.Line2D at 0x7f8fa3e5cca0>,\n",
       "  <matplotlib.lines.Line2D at 0x7f8fa3e5c640>],\n",
       " 'caps': [<matplotlib.lines.Line2D at 0x7f8f86567640>,\n",
       "  <matplotlib.lines.Line2D at 0x7f8f865671f0>],\n",
       " 'boxes': [<matplotlib.lines.Line2D at 0x7f8fa3e5c910>],\n",
       " 'medians': [<matplotlib.lines.Line2D at 0x7f8f865673d0>],\n",
       " 'fliers': [<matplotlib.lines.Line2D at 0x7f8f865674f0>],\n",
       " 'means': []}"
      ]
     },
     "execution_count": 535,
     "metadata": {},
     "output_type": "execute_result"
    },
    {
     "data": {
      "image/png": "[encoded data removed]",
      "text/plain": [
       "<Figure size 432x288 with 1 Axes>"
      ]
     },
     "metadata": {
      "needs_background": "light"
     },
     "output_type": "display_data"
    }
   ],
   "source": [
    "import matplotlib.pyplot as plt\n",
    "\n",
    "plt.boxplot(df['duration'])"
   ]
  },
  {
   "cell_type": "code",
   "execution_count": 536,
   "metadata": {},
   "outputs": [
    {
     "data": {
      "text/plain": [
       "count                      86994\n",
       "mean     45 days 08:55:44.009931\n",
       "std      88 days 22:44:57.614060\n",
       "min              0 days 00:00:00\n",
       "25%              1 days 00:00:00\n",
       "50%              3 days 00:00:00\n",
       "75%             31 days 00:00:00\n",
       "max           1337 days 00:00:00\n",
       "Name: duration, dtype: object"
      ]
     },
     "execution_count": 536,
     "metadata": {},
     "output_type": "execute_result"
    }
   ],
   "source": [
    "df.duration.describe()"
   ]
  },
  {
   "cell_type": "code",
   "execution_count": 537,
   "metadata": {},
   "outputs": [],
   "source": [
    "#범위를 1년으로 설정 \n",
    "df[\"duration\"] = df[\"duration\"].astype('string')\n"
   ]
  },
  {
   "cell_type": "code",
   "execution_count": 538,
   "metadata": {},
   "outputs": [],
   "source": [
    "df['duration']=df['duration'].str[0:-24]"
   ]
  },
  {
   "cell_type": "code",
   "execution_count": 541,
   "metadata": {},
   "outputs": [
    {
     "data": {
      "text/plain": [
       "2          419\n",
       "3         1043\n",
       "4           72\n",
       "5            1\n",
       "6            3\n",
       "          ... \n",
       "213415       0\n",
       "213439     259\n",
       "213441      44\n",
       "213443      13\n",
       "213445       2\n",
       "Name: duration, Length: 86994, dtype: int64"
      ]
     },
     "execution_count": 541,
     "metadata": {},
     "output_type": "execute_result"
    }
   ],
   "source": [
    "df['duration'] = df[\"duration\"].astype('int64')\n",
    "df['duration']"
   ]
  },
  {
   "cell_type": "code",
   "execution_count": 542,
   "metadata": {},
   "outputs": [
    {
     "data": {
      "text/plain": [
       "count    86994.000000\n",
       "mean        45.372037\n",
       "std         88.947889\n",
       "min          0.000000\n",
       "25%          1.000000\n",
       "50%          3.000000\n",
       "75%         31.000000\n",
       "max       1337.000000\n",
       "Name: duration, dtype: float64"
      ]
     },
     "execution_count": 542,
     "metadata": {},
     "output_type": "execute_result"
    }
   ],
   "source": [
    "df.duration.describe()"
   ]
  },
  {
   "cell_type": "code",
   "execution_count": 547,
   "metadata": {},
   "outputs": [
    {
     "data": {
      "text/plain": [
       "count    86960.000000\n",
       "mean        45.139685\n",
       "std         88.033224\n",
       "min          0.000000\n",
       "25%          1.000000\n",
       "50%          3.000000\n",
       "75%         31.000000\n",
       "max        365.000000\n",
       "Name: duration, dtype: float64"
      ]
     },
     "execution_count": 547,
     "metadata": {},
     "output_type": "execute_result"
    }
   ],
   "source": [
    "#1년 범위로 설정 한다. \n",
    "df=df[df['duration']<=365]\n",
    "df.duration.describe()"
   ]
  },
  {
   "cell_type": "code",
   "execution_count": 551,
   "metadata": {},
   "outputs": [
    {
     "data": {
      "text/html": [
       "<div>\n",
       "<style scoped>\n",
       "    .dataframe tbody tr th:only-of-type {\n",
       "        vertical-align: middle;\n",
       "    }\n",
       "\n",
       "    .dataframe tbody tr th {\n",
       "        vertical-align: top;\n",
       "    }\n",
       "\n",
       "    .dataframe thead th {\n",
       "        text-align: right;\n",
       "    }\n",
       "</style>\n",
       "<table border=\"1\" class=\"dataframe\">\n",
       "  <thead>\n",
       "    <tr style=\"text-align: right;\">\n",
       "      <th></th>\n",
       "      <th>id</th>\n",
       "      <th>date_account_created</th>\n",
       "      <th>timestamp_first_active</th>\n",
       "      <th>date_first_booking</th>\n",
       "      <th>gender</th>\n",
       "      <th>age</th>\n",
       "      <th>signup_method</th>\n",
       "      <th>signup_flow</th>\n",
       "      <th>language</th>\n",
       "      <th>affiliate_channel</th>\n",
       "      <th>affiliate_provider</th>\n",
       "      <th>first_affiliate_tracked</th>\n",
       "      <th>signup_app</th>\n",
       "      <th>first_device_type</th>\n",
       "      <th>first_browser</th>\n",
       "      <th>country_destination</th>\n",
       "      <th>tfa_date</th>\n",
       "      <th>duration</th>\n",
       "    </tr>\n",
       "  </thead>\n",
       "  <tbody>\n",
       "    <tr>\n",
       "      <th>4</th>\n",
       "      <td>87mebub9p4</td>\n",
       "      <td>2010-09-14</td>\n",
       "      <td>20091208061105</td>\n",
       "      <td>2010-02-18</td>\n",
       "      <td>FEMALE</td>\n",
       "      <td>41.0</td>\n",
       "      <td>basic</td>\n",
       "      <td>0</td>\n",
       "      <td>en</td>\n",
       "      <td>direct</td>\n",
       "      <td>direct</td>\n",
       "      <td>untracked</td>\n",
       "      <td>Web</td>\n",
       "      <td>Mac Desktop</td>\n",
       "      <td>Chrome</td>\n",
       "      <td>US</td>\n",
       "      <td>2009-12-08</td>\n",
       "      <td>72</td>\n",
       "    </tr>\n",
       "    <tr>\n",
       "      <th>5</th>\n",
       "      <td>osr2jwljor</td>\n",
       "      <td>2010-01-01</td>\n",
       "      <td>20100101215619</td>\n",
       "      <td>2010-01-02</td>\n",
       "      <td>FEMALE</td>\n",
       "      <td>36.0</td>\n",
       "      <td>basic</td>\n",
       "      <td>0</td>\n",
       "      <td>en</td>\n",
       "      <td>other</td>\n",
       "      <td>other</td>\n",
       "      <td>omg</td>\n",
       "      <td>Web</td>\n",
       "      <td>Mac Desktop</td>\n",
       "      <td>Chrome</td>\n",
       "      <td>US</td>\n",
       "      <td>2010-01-01</td>\n",
       "      <td>1</td>\n",
       "    </tr>\n",
       "    <tr>\n",
       "      <th>6</th>\n",
       "      <td>lsw9q7uk0j</td>\n",
       "      <td>2010-01-02</td>\n",
       "      <td>20100102012558</td>\n",
       "      <td>2010-01-05</td>\n",
       "      <td>FEMALE</td>\n",
       "      <td>46.0</td>\n",
       "      <td>basic</td>\n",
       "      <td>0</td>\n",
       "      <td>en</td>\n",
       "      <td>other</td>\n",
       "      <td>craigslist</td>\n",
       "      <td>untracked</td>\n",
       "      <td>Web</td>\n",
       "      <td>Mac Desktop</td>\n",
       "      <td>Safari</td>\n",
       "      <td>US</td>\n",
       "      <td>2010-01-02</td>\n",
       "      <td>3</td>\n",
       "    </tr>\n",
       "    <tr>\n",
       "      <th>7</th>\n",
       "      <td>0d01nltbrs</td>\n",
       "      <td>2010-01-03</td>\n",
       "      <td>20100103191905</td>\n",
       "      <td>2010-01-13</td>\n",
       "      <td>FEMALE</td>\n",
       "      <td>47.0</td>\n",
       "      <td>basic</td>\n",
       "      <td>0</td>\n",
       "      <td>en</td>\n",
       "      <td>direct</td>\n",
       "      <td>direct</td>\n",
       "      <td>omg</td>\n",
       "      <td>Web</td>\n",
       "      <td>Mac Desktop</td>\n",
       "      <td>Safari</td>\n",
       "      <td>US</td>\n",
       "      <td>2010-01-03</td>\n",
       "      <td>10</td>\n",
       "    </tr>\n",
       "    <tr>\n",
       "      <th>8</th>\n",
       "      <td>a1vcnhxeij</td>\n",
       "      <td>2010-01-04</td>\n",
       "      <td>20100104004211</td>\n",
       "      <td>2010-07-29</td>\n",
       "      <td>FEMALE</td>\n",
       "      <td>50.0</td>\n",
       "      <td>basic</td>\n",
       "      <td>0</td>\n",
       "      <td>en</td>\n",
       "      <td>other</td>\n",
       "      <td>craigslist</td>\n",
       "      <td>untracked</td>\n",
       "      <td>Web</td>\n",
       "      <td>Mac Desktop</td>\n",
       "      <td>Safari</td>\n",
       "      <td>US</td>\n",
       "      <td>2010-01-04</td>\n",
       "      <td>206</td>\n",
       "    </tr>\n",
       "    <tr>\n",
       "      <th>...</th>\n",
       "      <td>...</td>\n",
       "      <td>...</td>\n",
       "      <td>...</td>\n",
       "      <td>...</td>\n",
       "      <td>...</td>\n",
       "      <td>...</td>\n",
       "      <td>...</td>\n",
       "      <td>...</td>\n",
       "      <td>...</td>\n",
       "      <td>...</td>\n",
       "      <td>...</td>\n",
       "      <td>...</td>\n",
       "      <td>...</td>\n",
       "      <td>...</td>\n",
       "      <td>...</td>\n",
       "      <td>...</td>\n",
       "      <td>...</td>\n",
       "      <td>...</td>\n",
       "    </tr>\n",
       "    <tr>\n",
       "      <th>235</th>\n",
       "      <td>2fauin9rez</td>\n",
       "      <td>2010-03-15</td>\n",
       "      <td>20100315010643</td>\n",
       "      <td>2010-03-15</td>\n",
       "      <td>FEMALE</td>\n",
       "      <td>29.0</td>\n",
       "      <td>basic</td>\n",
       "      <td>2</td>\n",
       "      <td>en</td>\n",
       "      <td>direct</td>\n",
       "      <td>direct</td>\n",
       "      <td>linked</td>\n",
       "      <td>Web</td>\n",
       "      <td>Mac Desktop</td>\n",
       "      <td>Safari</td>\n",
       "      <td>US</td>\n",
       "      <td>2010-03-15</td>\n",
       "      <td>0</td>\n",
       "    </tr>\n",
       "    <tr>\n",
       "      <th>237</th>\n",
       "      <td>zfcvq4vj94</td>\n",
       "      <td>2010-03-15</td>\n",
       "      <td>20100315042100</td>\n",
       "      <td>2010-04-20</td>\n",
       "      <td>FEMALE</td>\n",
       "      <td>42.0</td>\n",
       "      <td>basic</td>\n",
       "      <td>0</td>\n",
       "      <td>en</td>\n",
       "      <td>direct</td>\n",
       "      <td>direct</td>\n",
       "      <td>linked</td>\n",
       "      <td>Web</td>\n",
       "      <td>Mac Desktop</td>\n",
       "      <td>Firefox</td>\n",
       "      <td>US</td>\n",
       "      <td>2010-03-15</td>\n",
       "      <td>36</td>\n",
       "    </tr>\n",
       "    <tr>\n",
       "      <th>240</th>\n",
       "      <td>8kjcxgk0sl</td>\n",
       "      <td>2010-03-15</td>\n",
       "      <td>20100315194123</td>\n",
       "      <td>2010-04-12</td>\n",
       "      <td>FEMALE</td>\n",
       "      <td>34.0</td>\n",
       "      <td>basic</td>\n",
       "      <td>0</td>\n",
       "      <td>en</td>\n",
       "      <td>other</td>\n",
       "      <td>craigslist</td>\n",
       "      <td>linked</td>\n",
       "      <td>Web</td>\n",
       "      <td>Mac Desktop</td>\n",
       "      <td>Chrome</td>\n",
       "      <td>US</td>\n",
       "      <td>2010-03-15</td>\n",
       "      <td>28</td>\n",
       "    </tr>\n",
       "    <tr>\n",
       "      <th>241</th>\n",
       "      <td>0p94c49eoo</td>\n",
       "      <td>2010-03-15</td>\n",
       "      <td>20100315200002</td>\n",
       "      <td>2010-03-16</td>\n",
       "      <td>FEMALE</td>\n",
       "      <td>19.0</td>\n",
       "      <td>basic</td>\n",
       "      <td>0</td>\n",
       "      <td>en</td>\n",
       "      <td>direct</td>\n",
       "      <td>direct</td>\n",
       "      <td>linked</td>\n",
       "      <td>Web</td>\n",
       "      <td>Mac Desktop</td>\n",
       "      <td>Firefox</td>\n",
       "      <td>US</td>\n",
       "      <td>2010-03-15</td>\n",
       "      <td>1</td>\n",
       "    </tr>\n",
       "    <tr>\n",
       "      <th>242</th>\n",
       "      <td>8nwchwpq2o</td>\n",
       "      <td>2010-03-15</td>\n",
       "      <td>20100315225007</td>\n",
       "      <td>2010-03-15</td>\n",
       "      <td>FEMALE</td>\n",
       "      <td>36.0</td>\n",
       "      <td>basic</td>\n",
       "      <td>3</td>\n",
       "      <td>en</td>\n",
       "      <td>direct</td>\n",
       "      <td>direct</td>\n",
       "      <td>untracked</td>\n",
       "      <td>Web</td>\n",
       "      <td>Mac Desktop</td>\n",
       "      <td>Safari</td>\n",
       "      <td>US</td>\n",
       "      <td>2010-03-15</td>\n",
       "      <td>0</td>\n",
       "    </tr>\n",
       "  </tbody>\n",
       "</table>\n",
       "<p>100 rows × 18 columns</p>\n",
       "</div>"
      ],
      "text/plain": [
       "             id date_account_created timestamp_first_active  \\\n",
       "4    87mebub9p4           2010-09-14         20091208061105   \n",
       "5    osr2jwljor           2010-01-01         20100101215619   \n",
       "6    lsw9q7uk0j           2010-01-02         20100102012558   \n",
       "7    0d01nltbrs           2010-01-03         20100103191905   \n",
       "8    a1vcnhxeij           2010-01-04         20100104004211   \n",
       "..          ...                  ...                    ...   \n",
       "235  2fauin9rez           2010-03-15         20100315010643   \n",
       "237  zfcvq4vj94           2010-03-15         20100315042100   \n",
       "240  8kjcxgk0sl           2010-03-15         20100315194123   \n",
       "241  0p94c49eoo           2010-03-15         20100315200002   \n",
       "242  8nwchwpq2o           2010-03-15         20100315225007   \n",
       "\n",
       "    date_first_booking  gender   age signup_method  signup_flow language  \\\n",
       "4           2010-02-18  FEMALE  41.0         basic            0       en   \n",
       "5           2010-01-02  FEMALE  36.0         basic            0       en   \n",
       "6           2010-01-05  FEMALE  46.0         basic            0       en   \n",
       "7           2010-01-13  FEMALE  47.0         basic            0       en   \n",
       "8           2010-07-29  FEMALE  50.0         basic            0       en   \n",
       "..                 ...     ...   ...           ...          ...      ...   \n",
       "235         2010-03-15  FEMALE  29.0         basic            2       en   \n",
       "237         2010-04-20  FEMALE  42.0         basic            0       en   \n",
       "240         2010-04-12  FEMALE  34.0         basic            0       en   \n",
       "241         2010-03-16  FEMALE  19.0         basic            0       en   \n",
       "242         2010-03-15  FEMALE  36.0         basic            3       en   \n",
       "\n",
       "    affiliate_channel affiliate_provider first_affiliate_tracked signup_app  \\\n",
       "4              direct             direct               untracked        Web   \n",
       "5               other              other                     omg        Web   \n",
       "6               other         craigslist               untracked        Web   \n",
       "7              direct             direct                     omg        Web   \n",
       "8               other         craigslist               untracked        Web   \n",
       "..                ...                ...                     ...        ...   \n",
       "235            direct             direct                  linked        Web   \n",
       "237            direct             direct                  linked        Web   \n",
       "240             other         craigslist                  linked        Web   \n",
       "241            direct             direct                  linked        Web   \n",
       "242            direct             direct               untracked        Web   \n",
       "\n",
       "    first_device_type first_browser country_destination   tfa_date  duration  \n",
       "4         Mac Desktop        Chrome                  US 2009-12-08        72  \n",
       "5         Mac Desktop        Chrome                  US 2010-01-01         1  \n",
       "6         Mac Desktop        Safari                  US 2010-01-02         3  \n",
       "7         Mac Desktop        Safari                  US 2010-01-03        10  \n",
       "8         Mac Desktop        Safari                  US 2010-01-04       206  \n",
       "..                ...           ...                 ...        ...       ...  \n",
       "235       Mac Desktop        Safari                  US 2010-03-15         0  \n",
       "237       Mac Desktop       Firefox                  US 2010-03-15        36  \n",
       "240       Mac Desktop        Chrome                  US 2010-03-15        28  \n",
       "241       Mac Desktop       Firefox                  US 2010-03-15         1  \n",
       "242       Mac Desktop        Safari                  US 2010-03-15         0  \n",
       "\n",
       "[100 rows x 18 columns]"
      ]
     },
     "execution_count": 551,
     "metadata": {},
     "output_type": "execute_result"
    }
   ],
   "source": [
    "df.head(100)"
   ]
  },
  {
   "cell_type": "code",
   "execution_count": 555,
   "metadata": {},
   "outputs": [],
   "source": [
    "# we devide 4 categorical by quantile 1st 2nd 3rd 4th \n",
    "# 1st -> very fast(VF) \n",
    "# 2nd -> fast(F)\n",
    "# 3rd -> slow(S) \n",
    "# 4th -> vey slow(VS)\n",
    "# final categorical target value \n",
    "df['cat_duration']=df['duration']\n",
    "df.loc[df['duration']<=1,'cat_duration']='VF'\n",
    "df.loc[(df['duration']>1) &(df['duration']<=3),'cat_duration']='F'\n",
    "df.loc[(df['duration']>3) &(df['duration']<=31),'cat_duration']='S'\n",
    "df.loc[df['duration']>31,'cat_duration']='VS'"
   ]
  },
  {
   "cell_type": "code",
   "execution_count": 556,
   "metadata": {},
   "outputs": [
    {
     "data": {
      "text/html": [
       "<div>\n",
       "<style scoped>\n",
       "    .dataframe tbody tr th:only-of-type {\n",
       "        vertical-align: middle;\n",
       "    }\n",
       "\n",
       "    .dataframe tbody tr th {\n",
       "        vertical-align: top;\n",
       "    }\n",
       "\n",
       "    .dataframe thead th {\n",
       "        text-align: right;\n",
       "    }\n",
       "</style>\n",
       "<table border=\"1\" class=\"dataframe\">\n",
       "  <thead>\n",
       "    <tr style=\"text-align: right;\">\n",
       "      <th></th>\n",
       "      <th>id</th>\n",
       "      <th>date_account_created</th>\n",
       "      <th>timestamp_first_active</th>\n",
       "      <th>date_first_booking</th>\n",
       "      <th>gender</th>\n",
       "      <th>age</th>\n",
       "      <th>signup_method</th>\n",
       "      <th>signup_flow</th>\n",
       "      <th>language</th>\n",
       "      <th>affiliate_channel</th>\n",
       "      <th>affiliate_provider</th>\n",
       "      <th>first_affiliate_tracked</th>\n",
       "      <th>signup_app</th>\n",
       "      <th>first_device_type</th>\n",
       "      <th>first_browser</th>\n",
       "      <th>country_destination</th>\n",
       "      <th>tfa_date</th>\n",
       "      <th>duration</th>\n",
       "      <th>cat_duration</th>\n",
       "    </tr>\n",
       "  </thead>\n",
       "  <tbody>\n",
       "    <tr>\n",
       "      <th>4</th>\n",
       "      <td>87mebub9p4</td>\n",
       "      <td>2010-09-14</td>\n",
       "      <td>20091208061105</td>\n",
       "      <td>2010-02-18</td>\n",
       "      <td>FEMALE</td>\n",
       "      <td>41.0</td>\n",
       "      <td>basic</td>\n",
       "      <td>0</td>\n",
       "      <td>en</td>\n",
       "      <td>direct</td>\n",
       "      <td>direct</td>\n",
       "      <td>untracked</td>\n",
       "      <td>Web</td>\n",
       "      <td>Mac Desktop</td>\n",
       "      <td>Chrome</td>\n",
       "      <td>US</td>\n",
       "      <td>2009-12-08</td>\n",
       "      <td>72</td>\n",
       "      <td>VS</td>\n",
       "    </tr>\n",
       "    <tr>\n",
       "      <th>5</th>\n",
       "      <td>osr2jwljor</td>\n",
       "      <td>2010-01-01</td>\n",
       "      <td>20100101215619</td>\n",
       "      <td>2010-01-02</td>\n",
       "      <td>FEMALE</td>\n",
       "      <td>36.0</td>\n",
       "      <td>basic</td>\n",
       "      <td>0</td>\n",
       "      <td>en</td>\n",
       "      <td>other</td>\n",
       "      <td>other</td>\n",
       "      <td>omg</td>\n",
       "      <td>Web</td>\n",
       "      <td>Mac Desktop</td>\n",
       "      <td>Chrome</td>\n",
       "      <td>US</td>\n",
       "      <td>2010-01-01</td>\n",
       "      <td>1</td>\n",
       "      <td>VF</td>\n",
       "    </tr>\n",
       "    <tr>\n",
       "      <th>6</th>\n",
       "      <td>lsw9q7uk0j</td>\n",
       "      <td>2010-01-02</td>\n",
       "      <td>20100102012558</td>\n",
       "      <td>2010-01-05</td>\n",
       "      <td>FEMALE</td>\n",
       "      <td>46.0</td>\n",
       "      <td>basic</td>\n",
       "      <td>0</td>\n",
       "      <td>en</td>\n",
       "      <td>other</td>\n",
       "      <td>craigslist</td>\n",
       "      <td>untracked</td>\n",
       "      <td>Web</td>\n",
       "      <td>Mac Desktop</td>\n",
       "      <td>Safari</td>\n",
       "      <td>US</td>\n",
       "      <td>2010-01-02</td>\n",
       "      <td>3</td>\n",
       "      <td>F</td>\n",
       "    </tr>\n",
       "    <tr>\n",
       "      <th>7</th>\n",
       "      <td>0d01nltbrs</td>\n",
       "      <td>2010-01-03</td>\n",
       "      <td>20100103191905</td>\n",
       "      <td>2010-01-13</td>\n",
       "      <td>FEMALE</td>\n",
       "      <td>47.0</td>\n",
       "      <td>basic</td>\n",
       "      <td>0</td>\n",
       "      <td>en</td>\n",
       "      <td>direct</td>\n",
       "      <td>direct</td>\n",
       "      <td>omg</td>\n",
       "      <td>Web</td>\n",
       "      <td>Mac Desktop</td>\n",
       "      <td>Safari</td>\n",
       "      <td>US</td>\n",
       "      <td>2010-01-03</td>\n",
       "      <td>10</td>\n",
       "      <td>S</td>\n",
       "    </tr>\n",
       "    <tr>\n",
       "      <th>8</th>\n",
       "      <td>a1vcnhxeij</td>\n",
       "      <td>2010-01-04</td>\n",
       "      <td>20100104004211</td>\n",
       "      <td>2010-07-29</td>\n",
       "      <td>FEMALE</td>\n",
       "      <td>50.0</td>\n",
       "      <td>basic</td>\n",
       "      <td>0</td>\n",
       "      <td>en</td>\n",
       "      <td>other</td>\n",
       "      <td>craigslist</td>\n",
       "      <td>untracked</td>\n",
       "      <td>Web</td>\n",
       "      <td>Mac Desktop</td>\n",
       "      <td>Safari</td>\n",
       "      <td>US</td>\n",
       "      <td>2010-01-04</td>\n",
       "      <td>206</td>\n",
       "      <td>VS</td>\n",
       "    </tr>\n",
       "    <tr>\n",
       "      <th>...</th>\n",
       "      <td>...</td>\n",
       "      <td>...</td>\n",
       "      <td>...</td>\n",
       "      <td>...</td>\n",
       "      <td>...</td>\n",
       "      <td>...</td>\n",
       "      <td>...</td>\n",
       "      <td>...</td>\n",
       "      <td>...</td>\n",
       "      <td>...</td>\n",
       "      <td>...</td>\n",
       "      <td>...</td>\n",
       "      <td>...</td>\n",
       "      <td>...</td>\n",
       "      <td>...</td>\n",
       "      <td>...</td>\n",
       "      <td>...</td>\n",
       "      <td>...</td>\n",
       "      <td>...</td>\n",
       "    </tr>\n",
       "    <tr>\n",
       "      <th>235</th>\n",
       "      <td>2fauin9rez</td>\n",
       "      <td>2010-03-15</td>\n",
       "      <td>20100315010643</td>\n",
       "      <td>2010-03-15</td>\n",
       "      <td>FEMALE</td>\n",
       "      <td>29.0</td>\n",
       "      <td>basic</td>\n",
       "      <td>2</td>\n",
       "      <td>en</td>\n",
       "      <td>direct</td>\n",
       "      <td>direct</td>\n",
       "      <td>linked</td>\n",
       "      <td>Web</td>\n",
       "      <td>Mac Desktop</td>\n",
       "      <td>Safari</td>\n",
       "      <td>US</td>\n",
       "      <td>2010-03-15</td>\n",
       "      <td>0</td>\n",
       "      <td>VF</td>\n",
       "    </tr>\n",
       "    <tr>\n",
       "      <th>237</th>\n",
       "      <td>zfcvq4vj94</td>\n",
       "      <td>2010-03-15</td>\n",
       "      <td>20100315042100</td>\n",
       "      <td>2010-04-20</td>\n",
       "      <td>FEMALE</td>\n",
       "      <td>42.0</td>\n",
       "      <td>basic</td>\n",
       "      <td>0</td>\n",
       "      <td>en</td>\n",
       "      <td>direct</td>\n",
       "      <td>direct</td>\n",
       "      <td>linked</td>\n",
       "      <td>Web</td>\n",
       "      <td>Mac Desktop</td>\n",
       "      <td>Firefox</td>\n",
       "      <td>US</td>\n",
       "      <td>2010-03-15</td>\n",
       "      <td>36</td>\n",
       "      <td>VS</td>\n",
       "    </tr>\n",
       "    <tr>\n",
       "      <th>240</th>\n",
       "      <td>8kjcxgk0sl</td>\n",
       "      <td>2010-03-15</td>\n",
       "      <td>20100315194123</td>\n",
       "      <td>2010-04-12</td>\n",
       "      <td>FEMALE</td>\n",
       "      <td>34.0</td>\n",
       "      <td>basic</td>\n",
       "      <td>0</td>\n",
       "      <td>en</td>\n",
       "      <td>other</td>\n",
       "      <td>craigslist</td>\n",
       "      <td>linked</td>\n",
       "      <td>Web</td>\n",
       "      <td>Mac Desktop</td>\n",
       "      <td>Chrome</td>\n",
       "      <td>US</td>\n",
       "      <td>2010-03-15</td>\n",
       "      <td>28</td>\n",
       "      <td>S</td>\n",
       "    </tr>\n",
       "    <tr>\n",
       "      <th>241</th>\n",
       "      <td>0p94c49eoo</td>\n",
       "      <td>2010-03-15</td>\n",
       "      <td>20100315200002</td>\n",
       "      <td>2010-03-16</td>\n",
       "      <td>FEMALE</td>\n",
       "      <td>19.0</td>\n",
       "      <td>basic</td>\n",
       "      <td>0</td>\n",
       "      <td>en</td>\n",
       "      <td>direct</td>\n",
       "      <td>direct</td>\n",
       "      <td>linked</td>\n",
       "      <td>Web</td>\n",
       "      <td>Mac Desktop</td>\n",
       "      <td>Firefox</td>\n",
       "      <td>US</td>\n",
       "      <td>2010-03-15</td>\n",
       "      <td>1</td>\n",
       "      <td>VF</td>\n",
       "    </tr>\n",
       "    <tr>\n",
       "      <th>242</th>\n",
       "      <td>8nwchwpq2o</td>\n",
       "      <td>2010-03-15</td>\n",
       "      <td>20100315225007</td>\n",
       "      <td>2010-03-15</td>\n",
       "      <td>FEMALE</td>\n",
       "      <td>36.0</td>\n",
       "      <td>basic</td>\n",
       "      <td>3</td>\n",
       "      <td>en</td>\n",
       "      <td>direct</td>\n",
       "      <td>direct</td>\n",
       "      <td>untracked</td>\n",
       "      <td>Web</td>\n",
       "      <td>Mac Desktop</td>\n",
       "      <td>Safari</td>\n",
       "      <td>US</td>\n",
       "      <td>2010-03-15</td>\n",
       "      <td>0</td>\n",
       "      <td>VF</td>\n",
       "    </tr>\n",
       "  </tbody>\n",
       "</table>\n",
       "<p>100 rows × 19 columns</p>\n",
       "</div>"
      ],
      "text/plain": [
       "             id date_account_created timestamp_first_active  \\\n",
       "4    87mebub9p4           2010-09-14         20091208061105   \n",
       "5    osr2jwljor           2010-01-01         20100101215619   \n",
       "6    lsw9q7uk0j           2010-01-02         20100102012558   \n",
       "7    0d01nltbrs           2010-01-03         20100103191905   \n",
       "8    a1vcnhxeij           2010-01-04         20100104004211   \n",
       "..          ...                  ...                    ...   \n",
       "235  2fauin9rez           2010-03-15         20100315010643   \n",
       "237  zfcvq4vj94           2010-03-15         20100315042100   \n",
       "240  8kjcxgk0sl           2010-03-15         20100315194123   \n",
       "241  0p94c49eoo           2010-03-15         20100315200002   \n",
       "242  8nwchwpq2o           2010-03-15         20100315225007   \n",
       "\n",
       "    date_first_booking  gender   age signup_method  signup_flow language  \\\n",
       "4           2010-02-18  FEMALE  41.0         basic            0       en   \n",
       "5           2010-01-02  FEMALE  36.0         basic            0       en   \n",
       "6           2010-01-05  FEMALE  46.0         basic            0       en   \n",
       "7           2010-01-13  FEMALE  47.0         basic            0       en   \n",
       "8           2010-07-29  FEMALE  50.0         basic            0       en   \n",
       "..                 ...     ...   ...           ...          ...      ...   \n",
       "235         2010-03-15  FEMALE  29.0         basic            2       en   \n",
       "237         2010-04-20  FEMALE  42.0         basic            0       en   \n",
       "240         2010-04-12  FEMALE  34.0         basic            0       en   \n",
       "241         2010-03-16  FEMALE  19.0         basic            0       en   \n",
       "242         2010-03-15  FEMALE  36.0         basic            3       en   \n",
       "\n",
       "    affiliate_channel affiliate_provider first_affiliate_tracked signup_app  \\\n",
       "4              direct             direct               untracked        Web   \n",
       "5               other              other                     omg        Web   \n",
       "6               other         craigslist               untracked        Web   \n",
       "7              direct             direct                     omg        Web   \n",
       "8               other         craigslist               untracked        Web   \n",
       "..                ...                ...                     ...        ...   \n",
       "235            direct             direct                  linked        Web   \n",
       "237            direct             direct                  linked        Web   \n",
       "240             other         craigslist                  linked        Web   \n",
       "241            direct             direct                  linked        Web   \n",
       "242            direct             direct               untracked        Web   \n",
       "\n",
       "    first_device_type first_browser country_destination   tfa_date  duration  \\\n",
       "4         Mac Desktop        Chrome                  US 2009-12-08        72   \n",
       "5         Mac Desktop        Chrome                  US 2010-01-01         1   \n",
       "6         Mac Desktop        Safari                  US 2010-01-02         3   \n",
       "7         Mac Desktop        Safari                  US 2010-01-03        10   \n",
       "8         Mac Desktop        Safari                  US 2010-01-04       206   \n",
       "..                ...           ...                 ...        ...       ...   \n",
       "235       Mac Desktop        Safari                  US 2010-03-15         0   \n",
       "237       Mac Desktop       Firefox                  US 2010-03-15        36   \n",
       "240       Mac Desktop        Chrome                  US 2010-03-15        28   \n",
       "241       Mac Desktop       Firefox                  US 2010-03-15         1   \n",
       "242       Mac Desktop        Safari                  US 2010-03-15         0   \n",
       "\n",
       "    cat_duration  \n",
       "4             VS  \n",
       "5             VF  \n",
       "6              F  \n",
       "7              S  \n",
       "8             VS  \n",
       "..           ...  \n",
       "235           VF  \n",
       "237           VS  \n",
       "240            S  \n",
       "241           VF  \n",
       "242           VF  \n",
       "\n",
       "[100 rows x 19 columns]"
      ]
     },
     "execution_count": 556,
     "metadata": {},
     "output_type": "execute_result"
    }
   ],
   "source": [
    "df.head(100)"
   ]
  },
  {
   "cell_type": "code",
   "execution_count": 599,
   "metadata": {},
   "outputs": [],
   "source": [
    "# our target value \n",
    "df=df.drop(['date_account_created','date_first_booking'],axis=1)\n"
   ]
  },
  {
   "cell_type": "code",
   "execution_count": 578,
   "metadata": {},
   "outputs": [],
   "source": [
    "# Session Merge \n",
    "\n",
    "sessions_id=list(df['id'].unique())\n",
    "# 현재 데이터 셋에 맞는 iD 기록만  사용하기 위해 \n",
    "sessions=df_session.loc[df_session['user_id'].isin(sessions_id)]\n",
    "\n"
   ]
  },
  {
   "cell_type": "code",
   "execution_count": 602,
   "metadata": {},
   "outputs": [
    {
     "data": {
      "text/plain": [
       "array(['d1mm9tcy42', '4rvqpxoh3h', 'xwxei6hdk4', ..., 'omlc9iku7t',\n",
       "       '0k26r3mir0', 'qbxza0xojf'], dtype=object)"
      ]
     },
     "execution_count": 602,
     "metadata": {},
     "output_type": "execute_result"
    }
   ],
   "source": [
    "sessions['user_id'].unique()"
   ]
  },
  {
   "cell_type": "code",
   "execution_count": 579,
   "metadata": {},
   "outputs": [
    {
     "data": {
      "text/plain": [
       "message_post    29391\n",
       "Name: action_type, dtype: int64"
      ]
     },
     "execution_count": 579,
     "metadata": {},
     "output_type": "execute_result"
    }
   ],
   "source": [
    "sessions[sessions.action.isnull()].action_type.value_counts()"
   ]
  },
  {
   "cell_type": "code",
   "execution_count": 580,
   "metadata": {},
   "outputs": [
    {
     "name": "stderr",
     "output_type": "stream",
     "text": [
      "/Users/kimjong-gyu/opt/anaconda3/lib/python3.8/site-packages/pandas/core/indexing.py:966: SettingWithCopyWarning: \n",
      "A value is trying to be set on a copy of a slice from a DataFrame.\n",
      "Try using .loc[row_indexer,col_indexer] = value instead\n",
      "\n",
      "See the caveats in the documentation: https://pandas.pydata.org/pandas-docs/stable/user_guide/indexing.html#returning-a-view-versus-a-copy\n",
      "  self.obj[item] = s\n"
     ]
    }
   ],
   "source": [
    "sessions.loc[sessions.action.isnull(), 'action'] = 'message'"
   ]
  },
  {
   "cell_type": "code",
   "execution_count": 581,
   "metadata": {},
   "outputs": [
    {
     "data": {
      "text/plain": [
       "user_id               0\n",
       "action                0\n",
       "action_type      280883\n",
       "action_detail    280883\n",
       "device_type           0\n",
       "secs_elapsed      28727\n",
       "dtype: int64"
      ]
     },
     "execution_count": 581,
     "metadata": {},
     "output_type": "execute_result"
    }
   ],
   "source": [
    "sessions.isnull().sum()"
   ]
  },
  {
   "cell_type": "code",
   "execution_count": 583,
   "metadata": {},
   "outputs": [
    {
     "name": "stdout",
     "output_type": "stream",
     "text": [
      "show                     163383\n",
      "lookup                    62154\n",
      "track_page_view           30182\n",
      "campaigns                 13818\n",
      "similar_listings_v2        6530\n",
      "index                      3765\n",
      "uptodate                    489\n",
      "localization_settings       319\n",
      "signed_out_modal            169\n",
      "currencies                   41\n",
      "update                       19\n",
      "check                        10\n",
      "widget                        4\n",
      "Name: action, dtype: int64\n",
      "---\n",
      "show                     163383\n",
      "lookup                    62154\n",
      "track_page_view           30182\n",
      "campaigns                 13818\n",
      "similar_listings_v2        6530\n",
      "index                      3765\n",
      "uptodate                    489\n",
      "localization_settings       319\n",
      "signed_out_modal            169\n",
      "currencies                   41\n",
      "update                       19\n",
      "check                        10\n",
      "widget                        4\n",
      "Name: action, dtype: int64\n"
     ]
    }
   ],
   "source": [
    "#Missing values in action_type and action_detail\n",
    "#The following are the missing values in action_type \n",
    "#and action_detail features that we have to fill, \n",
    "#and they all have the same rows that are missing.\n",
    "\n",
    "print(sessions[sessions.action_type.isnull()].action.value_counts())\n",
    "print('---')\n",
    "print(sessions[sessions.action_detail.isnull()].action.value_counts())"
   ]
  },
  {
   "cell_type": "code",
   "execution_count": 584,
   "metadata": {},
   "outputs": [],
   "source": [
    "# The following function finds the most common value of a feature, specific to each action, \n",
    "#then fill in action_type and action_detail.\n",
    "def most_common_value_by_all_users(merge_df, feature):\n",
    "    new_df = pd.DataFrame(merge_df.groupby('action')[feature].value_counts())\n",
    "    new_df['index_tuple'] = new_df.index\n",
    "    new_df['count'] = new_df[feature]\n",
    "    new_columns = ['action', feature]\n",
    "    for n, col in enumerate(new_columns):\n",
    "        new_df[col] = new_df.index_tuple.apply(lambda index_tuple: index_tuple[n])\n",
    "        \n",
    "    new_df = new_df.reset_index(drop=True)\n",
    "    new_df = new_df.drop(['index_tuple'], axis=1)\n",
    "    \n",
    "    new_df_max = pd.DataFrame(new_df.groupby('action', as_index=False)['count'].max())\n",
    "    new_df_max = new_df_max.merge(new_df, on = ['action', 'count'])\n",
    "    new_df_max = new_df_max.drop('count', axis=1)\n",
    "    merge_df = merge_df.merge(new_df_max, left_on = 'action', right_on = 'action', how='left')\n",
    "    \n",
    "    return merge_df\n",
    "sessions = most_common_value_by_all_users(sessions, 'action_type')\n",
    "sessions = most_common_value_by_all_users(sessions, 'action_detail')\n",
    "sessions.loc[sessions.action_type_x.isnull(), 'action_type_x'] = sessions.action_type_y\n",
    "sessions.loc[sessions.action_detail_x.isnull(), 'action_detail_x'] = sessions.action_detail_y\n",
    "sessions['action_type'] = sessions.action_type_x\n",
    "sessions['action_detail'] = sessions.action_detail_x\n",
    "sessions.drop(['action_type_x', 'action_detail_x', 'action_type_y', 'action_detail_y'], axis=1, inplace=True)\n",
    "\n",
    "\n"
   ]
  },
  {
   "cell_type": "code",
   "execution_count": 585,
   "metadata": {},
   "outputs": [
    {
     "data": {
      "text/plain": [
       "user_id              0\n",
       "action               0\n",
       "device_type          0\n",
       "secs_elapsed     28727\n",
       "action_type      99579\n",
       "action_detail    99579\n",
       "dtype: int64"
      ]
     },
     "execution_count": 585,
     "metadata": {},
     "output_type": "execute_result"
    }
   ],
   "source": [
    "sessions.isnull().sum()"
   ]
  },
  {
   "cell_type": "code",
   "execution_count": 586,
   "metadata": {},
   "outputs": [
    {
     "data": {
      "text/plain": [
       "lookup                 62154\n",
       "track_page_view        30182\n",
       "similar_listings_v2     6530\n",
       "uptodate                 489\n",
       "signed_out_modal         169\n",
       "currencies                41\n",
       "check                     10\n",
       "widget                     4\n",
       "Name: action, dtype: int64"
      ]
     },
     "execution_count": 586,
     "metadata": {},
     "output_type": "execute_result"
    }
   ],
   "source": [
    "# After that, we still have a lot of many missing values, such as missing values in action_type and action_detail where action as \"similar_listings_v2\", \n",
    "# \"lookup\" and \"track_page_view\" and so on.\n",
    "\n",
    "sessions[sessions.action_type.isnull()].action.value_counts()\n"
   ]
  },
  {
   "cell_type": "code",
   "execution_count": 587,
   "metadata": {},
   "outputs": [
    {
     "name": "stdout",
     "output_type": "stream",
     "text": [
      "data    147196\n",
      "Name: action_type, dtype: int64\n",
      "---\n",
      "similar_listings    147196\n",
      "Name: action_detail, dtype: int64\n"
     ]
    }
   ],
   "source": [
    "print(sessions[sessions.action == 'similar_listings'].action_type.value_counts())\n",
    "print('---')\n",
    "print(sessions[sessions.action == 'similar_listings'].action_detail.value_counts())"
   ]
  },
  {
   "cell_type": "code",
   "execution_count": 588,
   "metadata": {},
   "outputs": [],
   "source": [
    "# We noticed that action \"similar_listing\" has action_type as \"data\" and action_detail as \"similar_listings\". Therefore,\n",
    "# we use those to fill action \"similar_listings_v2\".\n",
    "\n",
    "sessions.loc[sessions.action == 'similar_listings_v2', 'action_type'] = 'data'\n",
    "sessions.loc[sessions.action == 'similar_listings_v2', 'action_detail'] = 'similar_listings'\n",
    "\n"
   ]
  },
  {
   "cell_type": "code",
   "execution_count": 589,
   "metadata": {},
   "outputs": [],
   "source": [
    "# The rest are easy, and lastly, we fill \"missing\" to the ones we can't find them a home.\n",
    "\n",
    "sessions.loc[sessions.action == 'lookup', 'action_type'] = 'lookup'\n",
    "sessions.loc[sessions.action == 'lookup', 'action_detail'] = 'lookup'\n",
    "sessions.loc[sessions.action == 'track_page_view', 'action_type'] = 'track_page_view'\n",
    "sessions.loc[sessions.action == 'track_page_view', 'action_detail'] = 'track_page_view'\n",
    "sessions.action_type = sessions.action_type.fillna('missing')\n",
    "sessions.action_detail = sessions.action_detail.fillna('missing')"
   ]
  },
  {
   "cell_type": "code",
   "execution_count": 590,
   "metadata": {},
   "outputs": [
    {
     "data": {
      "text/plain": [
       "user_id              0\n",
       "action               0\n",
       "device_type          0\n",
       "secs_elapsed     28727\n",
       "action_type          0\n",
       "action_detail        0\n",
       "dtype: int64"
      ]
     },
     "execution_count": 590,
     "metadata": {},
     "output_type": "execute_result"
    }
   ],
   "source": [
    "sessions.isnull().sum()\n"
   ]
  },
  {
   "cell_type": "code",
   "execution_count": 591,
   "metadata": {},
   "outputs": [],
   "source": [
    "# sec_elapsed 를 채워야 한다.\n",
    "\n",
    "sessions[\"secs_elapsed\"] = sessions.groupby(\"action\").transform(lambda x: x.fillna(x.median()))\n",
    "\n",
    "\n",
    "\n"
   ]
  },
  {
   "cell_type": "code",
   "execution_count": 592,
   "metadata": {},
   "outputs": [
    {
     "data": {
      "text/plain": [
       "user_id          0\n",
       "action           0\n",
       "device_type      0\n",
       "secs_elapsed     0\n",
       "action_type      0\n",
       "action_detail    0\n",
       "dtype: int64"
      ]
     },
     "execution_count": 592,
     "metadata": {},
     "output_type": "execute_result"
    }
   ],
   "source": [
    "sessions.isnull().sum()"
   ]
  },
  {
   "cell_type": "code",
   "execution_count": 593,
   "metadata": {},
   "outputs": [],
   "source": [
    "# action_count \n",
    "\n",
    "sessions_new = pd.DataFrame(sessions.user_id.value_counts(sort=False))\n",
    "sessions_new['action_count'] = sessions_new.user_id\n",
    "sessions_new['user_id'] = sessions_new.index\n",
    "sessions_new = sessions_new.reset_index(drop=True)\n"
   ]
  },
  {
   "cell_type": "code",
   "execution_count": 594,
   "metadata": {},
   "outputs": [
    {
     "data": {
      "text/html": [
       "<div>\n",
       "<style scoped>\n",
       "    .dataframe tbody tr th:only-of-type {\n",
       "        vertical-align: middle;\n",
       "    }\n",
       "\n",
       "    .dataframe tbody tr th {\n",
       "        vertical-align: top;\n",
       "    }\n",
       "\n",
       "    .dataframe thead th {\n",
       "        text-align: right;\n",
       "    }\n",
       "</style>\n",
       "<table border=\"1\" class=\"dataframe\">\n",
       "  <thead>\n",
       "    <tr style=\"text-align: right;\">\n",
       "      <th></th>\n",
       "      <th>user_id</th>\n",
       "      <th>action_count</th>\n",
       "    </tr>\n",
       "  </thead>\n",
       "  <tbody>\n",
       "    <tr>\n",
       "      <th>0</th>\n",
       "      <td>d21f68agqe</td>\n",
       "      <td>30</td>\n",
       "    </tr>\n",
       "    <tr>\n",
       "      <th>1</th>\n",
       "      <td>buhnlojilm</td>\n",
       "      <td>4</td>\n",
       "    </tr>\n",
       "    <tr>\n",
       "      <th>2</th>\n",
       "      <td>4xpmzcj00s</td>\n",
       "      <td>113</td>\n",
       "    </tr>\n",
       "    <tr>\n",
       "      <th>3</th>\n",
       "      <td>ber2n94dos</td>\n",
       "      <td>84</td>\n",
       "    </tr>\n",
       "    <tr>\n",
       "      <th>4</th>\n",
       "      <td>h4k2dp7a0n</td>\n",
       "      <td>9</td>\n",
       "    </tr>\n",
       "  </tbody>\n",
       "</table>\n",
       "</div>"
      ],
      "text/plain": [
       "      user_id  action_count\n",
       "0  d21f68agqe            30\n",
       "1  buhnlojilm             4\n",
       "2  4xpmzcj00s           113\n",
       "3  ber2n94dos            84\n",
       "4  h4k2dp7a0n             9"
      ]
     },
     "execution_count": 594,
     "metadata": {},
     "output_type": "execute_result"
    }
   ],
   "source": [
    "sessions_new.head()sessions_new.head()\n"
   ]
  },
  {
   "cell_type": "code",
   "execution_count": 595,
   "metadata": {},
   "outputs": [],
   "source": [
    "#Most frequent value in each feature (action, action_type, action_detail, device_type)\n",
    "#The following function returns the most frequent value in each feature, for a given user.\n",
    "\n",
    "def most_frequent_value(merge_df, feature):\n",
    "    # Group by the users and find the value counts of the feature\n",
    "    new_df = pd.DataFrame(sessions.groupby('user_id')[feature].value_counts())\n",
    "    # The index is a tuple, and we need to seperate it, so let's create a new feature from it.\n",
    "    new_df['index_tuple'] = new_df.index\n",
    "    # The new columns are the features created from the tuple.\n",
    "    new_columns = ['user_id',feature]\n",
    "    for n,col in enumerate(new_columns):\n",
    "        new_df[col] = new_df.index_tuple.apply(lambda index_tuple: index_tuple[n])\n",
    "    \n",
    "    # Drop the old index (the tuple index)\n",
    "    new_df = new_df.reset_index(drop = True)\n",
    "    # Drop the unneeded feature\n",
    "    new_df = new_df.drop('index_tuple', axis = 1)\n",
    "    # Select the first value for each user, its most common\n",
    "    new_df = new_df.groupby('user_id').first()\n",
    "    \n",
    "    # Set user_id equal to the index, then reset the index\n",
    "    new_df['user_id'] = new_df.index\n",
    "    new_df = new_df.reset_index(drop = True)\n",
    "    \n",
    "    merge_df = merge_df.merge(new_df)\n",
    "    \n",
    "    return merge_df\n",
    "\n",
    "sessions_feature = ['action', 'action_type', 'action_detail', 'device_type']\n",
    "\n",
    "for feature in sessions_feature:\n",
    "    sessions_new = most_frequent_value(sessions_new, featu\n",
    "\n"
   ]
  },
  {
   "cell_type": "code",
   "execution_count": 596,
   "metadata": {},
   "outputs": [
    {
     "data": {
      "text/html": [
       "<div>\n",
       "<style scoped>\n",
       "    .dataframe tbody tr th:only-of-type {\n",
       "        vertical-align: middle;\n",
       "    }\n",
       "\n",
       "    .dataframe tbody tr th {\n",
       "        vertical-align: top;\n",
       "    }\n",
       "\n",
       "    .dataframe thead th {\n",
       "        text-align: right;\n",
       "    }\n",
       "</style>\n",
       "<table border=\"1\" class=\"dataframe\">\n",
       "  <thead>\n",
       "    <tr style=\"text-align: right;\">\n",
       "      <th></th>\n",
       "      <th>user_id</th>\n",
       "      <th>action_count</th>\n",
       "      <th>action</th>\n",
       "      <th>action_type</th>\n",
       "      <th>action_detail</th>\n",
       "      <th>device_type</th>\n",
       "    </tr>\n",
       "  </thead>\n",
       "  <tbody>\n",
       "    <tr>\n",
       "      <th>0</th>\n",
       "      <td>d21f68agqe</td>\n",
       "      <td>30</td>\n",
       "      <td>personalize</td>\n",
       "      <td>view</td>\n",
       "      <td>wishlist_content_update</td>\n",
       "      <td>Mac Desktop</td>\n",
       "    </tr>\n",
       "    <tr>\n",
       "      <th>1</th>\n",
       "      <td>buhnlojilm</td>\n",
       "      <td>4</td>\n",
       "      <td>cancellation_policies</td>\n",
       "      <td>view</td>\n",
       "      <td>cancellation_policies</td>\n",
       "      <td>Mac Desktop</td>\n",
       "    </tr>\n",
       "    <tr>\n",
       "      <th>2</th>\n",
       "      <td>4xpmzcj00s</td>\n",
       "      <td>113</td>\n",
       "      <td>show</td>\n",
       "      <td>view</td>\n",
       "      <td>view_search_results</td>\n",
       "      <td>Mac Desktop</td>\n",
       "    </tr>\n",
       "    <tr>\n",
       "      <th>3</th>\n",
       "      <td>ber2n94dos</td>\n",
       "      <td>84</td>\n",
       "      <td>index</td>\n",
       "      <td>click</td>\n",
       "      <td>view_search_results</td>\n",
       "      <td>Windows Desktop</td>\n",
       "    </tr>\n",
       "    <tr>\n",
       "      <th>4</th>\n",
       "      <td>h4k2dp7a0n</td>\n",
       "      <td>9</td>\n",
       "      <td>header_userpic</td>\n",
       "      <td>data</td>\n",
       "      <td>header_userpic</td>\n",
       "      <td>Mac Desktop</td>\n",
       "    </tr>\n",
       "  </tbody>\n",
       "</table>\n",
       "</div>"
      ],
      "text/plain": [
       "      user_id  action_count                 action action_type  \\\n",
       "0  d21f68agqe            30            personalize        view   \n",
       "1  buhnlojilm             4  cancellation_policies        view   \n",
       "2  4xpmzcj00s           113                   show        view   \n",
       "3  ber2n94dos            84                  index       click   \n",
       "4  h4k2dp7a0n             9         header_userpic        data   \n",
       "\n",
       "             action_detail      device_type  \n",
       "0  wishlist_content_update      Mac Desktop  \n",
       "1    cancellation_policies      Mac Desktop  \n",
       "2      view_search_results      Mac Desktop  \n",
       "3      view_search_results  Windows Desktop  \n",
       "4           header_userpic      Mac Desktop  "
      ]
     },
     "execution_count": 596,
     "metadata": {},
     "output_type": "execute_result"
    }
   ],
   "source": [
    "sessions_new.head()"
   ]
  },
  {
   "cell_type": "code",
   "execution_count": 607,
   "metadata": {},
   "outputs": [
    {
     "data": {
      "text/html": [
       "<div>\n",
       "<style scoped>\n",
       "    .dataframe tbody tr th:only-of-type {\n",
       "        vertical-align: middle;\n",
       "    }\n",
       "\n",
       "    .dataframe tbody tr th {\n",
       "        vertical-align: top;\n",
       "    }\n",
       "\n",
       "    .dataframe thead th {\n",
       "        text-align: right;\n",
       "    }\n",
       "</style>\n",
       "<table border=\"1\" class=\"dataframe\">\n",
       "  <thead>\n",
       "    <tr style=\"text-align: right;\">\n",
       "      <th></th>\n",
       "      <th>id</th>\n",
       "      <th>action_count</th>\n",
       "      <th>action</th>\n",
       "      <th>action_type</th>\n",
       "      <th>action_detail</th>\n",
       "      <th>device_type</th>\n",
       "    </tr>\n",
       "  </thead>\n",
       "  <tbody>\n",
       "    <tr>\n",
       "      <th>0</th>\n",
       "      <td>d21f68agqe</td>\n",
       "      <td>30</td>\n",
       "      <td>personalize</td>\n",
       "      <td>view</td>\n",
       "      <td>wishlist_content_update</td>\n",
       "      <td>Mac Desktop</td>\n",
       "    </tr>\n",
       "    <tr>\n",
       "      <th>1</th>\n",
       "      <td>buhnlojilm</td>\n",
       "      <td>4</td>\n",
       "      <td>cancellation_policies</td>\n",
       "      <td>view</td>\n",
       "      <td>cancellation_policies</td>\n",
       "      <td>Mac Desktop</td>\n",
       "    </tr>\n",
       "    <tr>\n",
       "      <th>2</th>\n",
       "      <td>4xpmzcj00s</td>\n",
       "      <td>113</td>\n",
       "      <td>show</td>\n",
       "      <td>view</td>\n",
       "      <td>view_search_results</td>\n",
       "      <td>Mac Desktop</td>\n",
       "    </tr>\n",
       "    <tr>\n",
       "      <th>3</th>\n",
       "      <td>ber2n94dos</td>\n",
       "      <td>84</td>\n",
       "      <td>index</td>\n",
       "      <td>click</td>\n",
       "      <td>view_search_results</td>\n",
       "      <td>Windows Desktop</td>\n",
       "    </tr>\n",
       "    <tr>\n",
       "      <th>4</th>\n",
       "      <td>h4k2dp7a0n</td>\n",
       "      <td>9</td>\n",
       "      <td>header_userpic</td>\n",
       "      <td>data</td>\n",
       "      <td>header_userpic</td>\n",
       "      <td>Mac Desktop</td>\n",
       "    </tr>\n",
       "  </tbody>\n",
       "</table>\n",
       "</div>"
      ],
      "text/plain": [
       "           id  action_count                 action action_type  \\\n",
       "0  d21f68agqe            30            personalize        view   \n",
       "1  buhnlojilm             4  cancellation_policies        view   \n",
       "2  4xpmzcj00s           113                   show        view   \n",
       "3  ber2n94dos            84                  index       click   \n",
       "4  h4k2dp7a0n             9         header_userpic        data   \n",
       "\n",
       "             action_detail      device_type  \n",
       "0  wishlist_content_update      Mac Desktop  \n",
       "1    cancellation_policies      Mac Desktop  \n",
       "2      view_search_results      Mac Desktop  \n",
       "3      view_search_results  Windows Desktop  \n",
       "4           header_userpic      Mac Desktop  "
      ]
     },
     "execution_count": 607,
     "metadata": {},
     "output_type": "execute_result"
    }
   ],
   "source": [
    "# sessions_new user 칼럼 이름 변경 \n",
    "\n",
    "sessions_new.rename(columns={'user_id':'id'},inplace=True)\n",
    "\n",
    "\n",
    "sessions_new.head()"
   ]
  },
  {
   "cell_type": "code",
   "execution_count": 608,
   "metadata": {},
   "outputs": [],
   "source": [
    "# Session + train + test data set \n",
    "merge_left = pd.merge(df,sessions_new, how='inner', left_on='id', right_on='id')\n",
    "\n",
    "\n"
   ]
  },
  {
   "cell_type": "code",
   "execution_count": 609,
   "metadata": {},
   "outputs": [
    {
     "data": {
      "text/plain": [
       "id                         0\n",
       "timestamp_first_active     0\n",
       "gender                     0\n",
       "age                        0\n",
       "signup_method              0\n",
       "signup_flow                0\n",
       "language                   0\n",
       "affiliate_channel          0\n",
       "affiliate_provider         0\n",
       "first_affiliate_tracked    0\n",
       "signup_app                 0\n",
       "first_device_type          0\n",
       "first_browser              0\n",
       "country_destination        0\n",
       "tfa_date                   0\n",
       "duration                   0\n",
       "cat_duration               0\n",
       "action_sum                 0\n",
       "action_count               0\n",
       "action                     0\n",
       "action_type                0\n",
       "action_detail              0\n",
       "device_type                0\n",
       "dtype: int64"
      ]
     },
     "execution_count": 609,
     "metadata": {},
     "output_type": "execute_result"
    }
   ],
   "source": [
    "merge_left.isnull().sum()"
   ]
  },
  {
   "cell_type": "code",
   "execution_count": 618,
   "metadata": {},
   "outputs": [
    {
     "data": {
      "text/plain": [
       "Index(['id', 'timestamp_first_active', 'gender', 'age', 'signup_method',\n",
       "       'signup_flow', 'language', 'affiliate_channel', 'affiliate_provider',\n",
       "       'first_affiliate_tracked', 'signup_app', 'first_device_type',\n",
       "       'first_browser', 'country_destination', 'tfa_date', 'duration',\n",
       "       'cat_duration', 'action_sum', 'action_count', 'action', 'action_type',\n",
       "       'action_detail', 'device_type'],\n",
       "      dtype='object')"
      ]
     },
     "execution_count": 618,
     "metadata": {},
     "output_type": "execute_result"
    }
   ],
   "source": [
    "merge_left.columns"
   ]
  },
  {
   "cell_type": "code",
   "execution_count": 619,
   "metadata": {
    "scrolled": true
   },
   "outputs": [],
   "source": [
    "# Country CSV \n",
    "df_country=pd.read_csv(\"/Users/kimjong-gyu/Desktop/github/3rdBA/3rdBA/BA_TeamProject/airbnb-recruiting-new-user-bookings/countries.csv\")\n"
   ]
  },
  {
   "cell_type": "code",
   "execution_count": 620,
   "metadata": {},
   "outputs": [
    {
     "name": "stdout",
     "output_type": "stream",
     "text": [
      "<class 'pandas.core.frame.DataFrame'>\n",
      "RangeIndex: 10 entries, 0 to 9\n",
      "Data columns (total 7 columns):\n",
      " #   Column                         Non-Null Count  Dtype  \n",
      "---  ------                         --------------  -----  \n",
      " 0   country_destination            10 non-null     object \n",
      " 1   lat_destination                10 non-null     float64\n",
      " 2   lng_destination                10 non-null     float64\n",
      " 3   distance_km                    10 non-null     float64\n",
      " 4   destination_km2                10 non-null     float64\n",
      " 5   destination_language           10 non-null     object \n",
      " 6   language_levenshtein_distance  10 non-null     float64\n",
      "dtypes: float64(5), object(2)\n",
      "memory usage: 688.0+ bytes\n"
     ]
    }
   ],
   "source": [
    "# EDA Country csv\n",
    "df_country.info()"
   ]
  },
  {
   "cell_type": "code",
   "execution_count": 621,
   "metadata": {},
   "outputs": [],
   "source": [
    "# Country + train + test + sesssion\n",
    "df_final = pd.merge(merge_left, df_country, how='inner', on='country_destination')"
   ]
  },
  {
   "cell_type": "code",
   "execution_count": 622,
   "metadata": {},
   "outputs": [
    {
     "data": {
      "text/plain": [
       "id                               0\n",
       "timestamp_first_active           0\n",
       "gender                           0\n",
       "age                              0\n",
       "signup_method                    0\n",
       "signup_flow                      0\n",
       "language                         0\n",
       "affiliate_channel                0\n",
       "affiliate_provider               0\n",
       "first_affiliate_tracked          0\n",
       "signup_app                       0\n",
       "first_device_type                0\n",
       "first_browser                    0\n",
       "country_destination              0\n",
       "tfa_date                         0\n",
       "duration                         0\n",
       "cat_duration                     0\n",
       "action_sum                       0\n",
       "action_count                     0\n",
       "action                           0\n",
       "action_type                      0\n",
       "action_detail                    0\n",
       "device_type                      0\n",
       "lat_destination                  0\n",
       "lng_destination                  0\n",
       "distance_km                      0\n",
       "destination_km2                  0\n",
       "destination_language             0\n",
       "language_levenshtein_distance    0\n",
       "dtype: int64"
      ]
     },
     "execution_count": 622,
     "metadata": {},
     "output_type": "execute_result"
    }
   ],
   "source": [
    "df_final.isnull().sum()"
   ]
  },
  {
   "cell_type": "code",
   "execution_count": null,
   "metadata": {},
   "outputs": [],
   "source": []
  }
 ],
 "metadata": {
  "kernelspec": {
   "display_name": "Python 3",
   "language": "python",
   "name": "python3"
  },
  "language_info": {
   "codemirror_mode": {
    "name": "ipython",
    "version": 3
   },
   "file_extension": ".py",
   "mimetype": "text/x-python",
   "name": "python",
   "nbconvert_exporter": "python",
   "pygments_lexer": "ipython3",
   "version": "3.8.3"
  }
 },
 "nbformat": 4,
 "nbformat_minor": 4
}
