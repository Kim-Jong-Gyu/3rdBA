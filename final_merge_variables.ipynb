{
 "cells": [
  {
   "cell_type": "code",
   "execution_count": 2,
   "metadata": {},
   "outputs": [],
   "source": [
    "import pandas as pd\n",
    "\n",
    "\n",
    "df_1=pd.read_csv('/Users/kimjong-gyu/Desktop/airbnb-recruiting-new-user-bookings/final_dataset.csv') \n",
    "df_session=pd.read_csv('/Users/kimjong-gyu/Desktop/airbnb-recruiting-new-user-bookings/final_session.csv') \n",
    "\n",
    "\n"
   ]
  },
  {
   "cell_type": "code",
   "execution_count": 3,
   "metadata": {},
   "outputs": [],
   "source": [
    "final_data=pd.merge(df_1, df_session, how='inner', on='id')"
   ]
  },
  {
   "cell_type": "code",
   "execution_count": 4,
   "metadata": {},
   "outputs": [
    {
     "data": {
      "text/plain": [
       "key_0                                        0\n",
       "p_c1                                         0\n",
       "p_c2                                         0\n",
       "p_c3                                         0\n",
       "p_c4                                         0\n",
       "p_c5                                         0\n",
       "id                                           0\n",
       "action_detail_listing_reviews_page           0\n",
       "action_detail_guest_receipt                  0\n",
       "action_detail_p4                             0\n",
       "action_detail_list_your_space                0\n",
       "action_detail_message_post                   0\n",
       "action_detail_message_inbox                  0\n",
       "action_detail_popular_wishlists              0\n",
       "action_detail_cancellation_policies          0\n",
       "action_detail_p4_refund_policy_terms         0\n",
       "action_detail_change_trip_characteristics    0\n",
       "action_detail_create_listing                 0\n",
       "action_detail_request_new_confirm_email      0\n",
       "action_detail_at_checkpoint                  0\n",
       "action_detail_read_policy_click              0\n",
       "action_detail_payment_instruments            0\n",
       "action_detail_guest_itinerary                0\n",
       "action_detail_confirm_email_link             0\n",
       "action_detail_create_phone_numbers           0\n",
       "cat_duration                                 0\n",
       "action_count                                 0\n",
       "total_secs                                   0\n",
       "device_type                                  0\n",
       "dtype: int64"
      ]
     },
     "execution_count": 4,
     "metadata": {},
     "output_type": "execute_result"
    }
   ],
   "source": [
    "final_data.isnull().sum()"
   ]
  },
  {
   "cell_type": "code",
   "execution_count": 7,
   "metadata": {},
   "outputs": [],
   "source": [
    "final_data=final_data.drop(['key_0'],axis=1)"
   ]
  },
  {
   "cell_type": "code",
   "execution_count": 8,
   "metadata": {},
   "outputs": [],
   "source": [
    "final_data.to_csv('/Users/kimjong-gyu/Desktop/airbnb-recruiting-new-user-bookings/final_f_data.csv', index=False, encoding='cp949') \n"
   ]
  },
  {
   "cell_type": "code",
   "execution_count": null,
   "metadata": {},
   "outputs": [],
   "source": []
  }
 ],
 "metadata": {
  "kernelspec": {
   "display_name": "Python 3",
   "language": "python",
   "name": "python3"
  },
  "language_info": {
   "codemirror_mode": {
    "name": "ipython",
    "version": 3
   },
   "file_extension": ".py",
   "mimetype": "text/x-python",
   "name": "python",
   "nbconvert_exporter": "python",
   "pygments_lexer": "ipython3",
   "version": "3.7.9"
  }
 },
 "nbformat": 4,
 "nbformat_minor": 4
}
